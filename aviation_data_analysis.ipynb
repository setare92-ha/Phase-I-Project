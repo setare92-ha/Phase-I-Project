{
 "cells": [
  {
   "cell_type": "markdown",
   "id": "c2e139ed-cdaf-408b-b0a7-37d34cfce870",
   "metadata": {},
   "source": [
    "# Aviation Crash Data Analysis "
   ]
  },
  {
   "cell_type": "markdown",
   "id": "fb296bd9-a5eb-45be-b479-be254b860232",
   "metadata": {},
   "source": [
    "<center><img src=\"./images/Header.png\" \n",
    "    Width=\"1000\">"
   ]
  },
  {
   "cell_type": "markdown",
   "id": "c3ab1a74-4baa-4f73-94fb-88c222a37207",
   "metadata": {},
   "source": [
    "## Business Understanding "
   ]
  },
  {
   "cell_type": "markdown",
   "id": "a1dba2b7-c4f7-4d70-8a12-ecf9bf7c0fc7",
   "metadata": {},
   "source": [
    "### Business Objective\n",
    "This project analyzes the [aviation accident dataset](https://www.kaggle.com/datasets/khsamaha/aviation-accident-database-synopses) on Kaggle. The findings will be used to make recommendations to a client that is looking to expand its business through purchasing and operating airplanes for commercial and private enterprises. \n",
    "\n",
    "### Background Information\n",
    "Before proceeding any further, we do some research to gain some domain knowledge. Different measures could be considered for assessing the safety of aircrafts. For example, the *number of fatal crashes per every 100,000 flights* seems like a standard measure to consider. The *number of non-fatal incidents that led to injuries* or required the pilot to take extreme measures for landing the aircraft may be considered as a secondary measure [REF](https://assets.performance.gov/APG/files/2023/june/FY2023_June_DOT_Progress_Aviation_Safety.pdf).\n",
    "\n",
    "Some aspects of safety we can investigate are: \n",
    "- aircraft make and model: certain models may be more susciptible to incidents due to inherent manufacturing/design flaws.\n",
    "- number of engines: a 4-engine aircraft should be safer compared to a 2-engine one\n",
    "- location: mountanous regions or locations with extreme weather conditions could be more accident-prone.\n",
    "- manufacturer's safety compliance policies: quantifiable metrics such as the frequency of inspections could be studied provided that the data is available.\n",
    "\n",
    "### Data Mining Goals\n",
    "A successful mining of the data would determine potentail factors that affect the safety of aircrafts. The correlation of each factor to aircraft safety and the strength of such correlation will provide insights to identify the lowest-risk aircrafts that the client can start its business endeavor with. \n",
    "\n",
    "### Project Plan\n",
    "We will first skim the data provided to get a preliminary understanding of what's available, whether it's clean and ready for use. Next, we will determine the useful data for our analysis. This portion of the data will be prepared,cleaned and organized. In the end, we will use insights from the data along with visualizations to make appropriate business recommendations. As a complementary part, limitations of the work along with potential future investigations will be highlighted.   "
   ]
  },
  {
   "cell_type": "markdown",
   "id": "9d66f7d9-433a-402d-80db-e7c51e34c4db",
   "metadata": {},
   "source": [
    "## Data Understanding"
   ]
  },
  {
   "cell_type": "markdown",
   "id": "8df68108-b3a8-4489-9734-4930a7d175c6",
   "metadata": {},
   "source": [
    "In this section, we take a first look at the data to get a preliminary understanding of its type and what it contains. "
   ]
  },
  {
   "cell_type": "code",
   "execution_count": 91,
   "id": "16d25c5f-724b-4778-b2d4-fb79b84c308d",
   "metadata": {},
   "outputs": [],
   "source": [
    "# importing the required modules\n",
    "import pandas as pd\n",
    "#pd.set_option('display.max_rows', None)"
   ]
  },
  {
   "cell_type": "code",
   "execution_count": 133,
   "id": "fbf55c9d-0e70-4dcd-a744-43ea4710bf39",
   "metadata": {},
   "outputs": [
    {
     "name": "stdout",
     "output_type": "stream",
     "text": [
      "<class 'pandas.core.frame.DataFrame'>\n",
      "RangeIndex: 90348 entries, 0 to 90347\n",
      "Data columns (total 31 columns):\n",
      " #   Column                  Non-Null Count  Dtype  \n",
      "---  ------                  --------------  -----  \n",
      " 0   Event.Id                88889 non-null  object \n",
      " 1   Investigation.Type      90348 non-null  object \n",
      " 2   Accident.Number         88889 non-null  object \n",
      " 3   Event.Date              88889 non-null  object \n",
      " 4   Location                88837 non-null  object \n",
      " 5   Country                 88663 non-null  object \n",
      " 6   Latitude                34382 non-null  object \n",
      " 7   Longitude               34373 non-null  object \n",
      " 8   Airport.Code            50132 non-null  object \n",
      " 9   Airport.Name            52704 non-null  object \n",
      " 10  Injury.Severity         87889 non-null  object \n",
      " 11  Aircraft.damage         85695 non-null  object \n",
      " 12  Aircraft.Category       32287 non-null  object \n",
      " 13  Registration.Number     87507 non-null  object \n",
      " 14  Make                    88826 non-null  object \n",
      " 15  Model                   88797 non-null  object \n",
      " 16  Amateur.Built           88787 non-null  object \n",
      " 17  Number.of.Engines       82805 non-null  float64\n",
      " 18  Engine.Type             81793 non-null  object \n",
      " 19  FAR.Description         32023 non-null  object \n",
      " 20  Schedule                12582 non-null  object \n",
      " 21  Purpose.of.flight       82697 non-null  object \n",
      " 22  Air.carrier             16648 non-null  object \n",
      " 23  Total.Fatal.Injuries    77488 non-null  float64\n",
      " 24  Total.Serious.Injuries  76379 non-null  float64\n",
      " 25  Total.Minor.Injuries    76956 non-null  float64\n",
      " 26  Total.Uninjured         82977 non-null  float64\n",
      " 27  Weather.Condition       84397 non-null  object \n",
      " 28  Broad.phase.of.flight   61724 non-null  object \n",
      " 29  Report.Status           82505 non-null  object \n",
      " 30  Publication.Date        73659 non-null  object \n",
      "dtypes: float64(5), object(26)\n",
      "memory usage: 21.4+ MB\n"
     ]
    }
   ],
   "source": [
    "# read the data \n",
    "df = pd.read_csv(\"./data/Aviation_Data.csv\",low_memory=False)\n",
    "# inspect the data\n",
    "df.info()\n",
    "\n",
    "## improve aesthetics\n",
    "# replace . with space in column names to increase readability\n",
    "df.rename(columns=lambda x: x.replace('.',' '),inplace=True)\n",
    "# standardize the capitalization of column names\n",
    "df.columns = [column.capitalize() for column in df.columns]\n",
    "df.rename(columns={\"Far description\": \"FAR description\"},inplace=True)"
   ]
  },
  {
   "cell_type": "markdown",
   "id": "aac355fe-a73d-4e83-b637-9459bc18cd19",
   "metadata": {},
   "source": [
    "**Holistic Description of the Data:**\n",
    "- The data has 31 columns. There are two data types: object (string/text) and float.\n",
    "- We notice that some columns have substantial amount of missing data. We will address this in more detail while doing EDA.\n",
    "- We take some time to make sure we understand what each column represents and brainstorm how it can be leveraged for the type of analysis we're doing. For example, the FAR description column represents has descriptions or codes that specify which specific Federal Aviation Regulations are relevant to each accident.\n",
    "\n",
    "Next, we take a look at a small chunk of the data:"
   ]
  },
  {
   "cell_type": "code",
   "execution_count": 134,
   "id": "5960482e-48c9-4b2c-b13e-cd39d72b4b77",
   "metadata": {},
   "outputs": [
    {
     "data": {
      "text/html": [
       "<div>\n",
       "<style scoped>\n",
       "    .dataframe tbody tr th:only-of-type {\n",
       "        vertical-align: middle;\n",
       "    }\n",
       "\n",
       "    .dataframe tbody tr th {\n",
       "        vertical-align: top;\n",
       "    }\n",
       "\n",
       "    .dataframe thead th {\n",
       "        text-align: right;\n",
       "    }\n",
       "</style>\n",
       "<table border=\"1\" class=\"dataframe\">\n",
       "  <thead>\n",
       "    <tr style=\"text-align: right;\">\n",
       "      <th></th>\n",
       "      <th>Event id</th>\n",
       "      <th>Investigation type</th>\n",
       "      <th>Accident number</th>\n",
       "      <th>Event date</th>\n",
       "      <th>Location</th>\n",
       "      <th>Country</th>\n",
       "      <th>Latitude</th>\n",
       "      <th>Longitude</th>\n",
       "      <th>Airport code</th>\n",
       "      <th>Airport name</th>\n",
       "      <th>...</th>\n",
       "      <th>Purpose of flight</th>\n",
       "      <th>Air carrier</th>\n",
       "      <th>Total fatal injuries</th>\n",
       "      <th>Total serious injuries</th>\n",
       "      <th>Total minor injuries</th>\n",
       "      <th>Total uninjured</th>\n",
       "      <th>Weather condition</th>\n",
       "      <th>Broad phase of flight</th>\n",
       "      <th>Report status</th>\n",
       "      <th>Publication date</th>\n",
       "    </tr>\n",
       "  </thead>\n",
       "  <tbody>\n",
       "    <tr>\n",
       "      <th>90345</th>\n",
       "      <td>20221227106497</td>\n",
       "      <td>Accident</td>\n",
       "      <td>WPR23LA075</td>\n",
       "      <td>2022-12-26</td>\n",
       "      <td>Payson, AZ</td>\n",
       "      <td>United States</td>\n",
       "      <td>341525N</td>\n",
       "      <td>1112021W</td>\n",
       "      <td>PAN</td>\n",
       "      <td>PAYSON</td>\n",
       "      <td>...</td>\n",
       "      <td>Personal</td>\n",
       "      <td>NaN</td>\n",
       "      <td>0.0</td>\n",
       "      <td>0.0</td>\n",
       "      <td>0.0</td>\n",
       "      <td>1.0</td>\n",
       "      <td>VMC</td>\n",
       "      <td>NaN</td>\n",
       "      <td>NaN</td>\n",
       "      <td>27-12-2022</td>\n",
       "    </tr>\n",
       "    <tr>\n",
       "      <th>90346</th>\n",
       "      <td>20221227106498</td>\n",
       "      <td>Accident</td>\n",
       "      <td>WPR23LA076</td>\n",
       "      <td>2022-12-26</td>\n",
       "      <td>Morgan, UT</td>\n",
       "      <td>United States</td>\n",
       "      <td>NaN</td>\n",
       "      <td>NaN</td>\n",
       "      <td>NaN</td>\n",
       "      <td>NaN</td>\n",
       "      <td>...</td>\n",
       "      <td>Personal</td>\n",
       "      <td>MC CESSNA 210N LLC</td>\n",
       "      <td>0.0</td>\n",
       "      <td>0.0</td>\n",
       "      <td>0.0</td>\n",
       "      <td>0.0</td>\n",
       "      <td>NaN</td>\n",
       "      <td>NaN</td>\n",
       "      <td>NaN</td>\n",
       "      <td>NaN</td>\n",
       "    </tr>\n",
       "    <tr>\n",
       "      <th>90347</th>\n",
       "      <td>20221230106513</td>\n",
       "      <td>Accident</td>\n",
       "      <td>ERA23LA097</td>\n",
       "      <td>2022-12-29</td>\n",
       "      <td>Athens, GA</td>\n",
       "      <td>United States</td>\n",
       "      <td>NaN</td>\n",
       "      <td>NaN</td>\n",
       "      <td>NaN</td>\n",
       "      <td>NaN</td>\n",
       "      <td>...</td>\n",
       "      <td>Personal</td>\n",
       "      <td>NaN</td>\n",
       "      <td>0.0</td>\n",
       "      <td>1.0</td>\n",
       "      <td>0.0</td>\n",
       "      <td>1.0</td>\n",
       "      <td>NaN</td>\n",
       "      <td>NaN</td>\n",
       "      <td>NaN</td>\n",
       "      <td>30-12-2022</td>\n",
       "    </tr>\n",
       "  </tbody>\n",
       "</table>\n",
       "<p>3 rows × 31 columns</p>\n",
       "</div>"
      ],
      "text/plain": [
       "             Event id Investigation type Accident number  Event date  \\\n",
       "90345  20221227106497           Accident      WPR23LA075  2022-12-26   \n",
       "90346  20221227106498           Accident      WPR23LA076  2022-12-26   \n",
       "90347  20221230106513           Accident      ERA23LA097  2022-12-29   \n",
       "\n",
       "         Location        Country Latitude Longitude Airport code Airport name  \\\n",
       "90345  Payson, AZ  United States  341525N  1112021W          PAN       PAYSON   \n",
       "90346  Morgan, UT  United States      NaN       NaN          NaN          NaN   \n",
       "90347  Athens, GA  United States      NaN       NaN          NaN          NaN   \n",
       "\n",
       "       ... Purpose of flight         Air carrier Total fatal injuries  \\\n",
       "90345  ...          Personal                 NaN                  0.0   \n",
       "90346  ...          Personal  MC CESSNA 210N LLC                  0.0   \n",
       "90347  ...          Personal                 NaN                  0.0   \n",
       "\n",
       "      Total serious injuries Total minor injuries Total uninjured  \\\n",
       "90345                    0.0                  0.0             1.0   \n",
       "90346                    0.0                  0.0             0.0   \n",
       "90347                    1.0                  0.0             1.0   \n",
       "\n",
       "      Weather condition  Broad phase of flight Report status Publication date  \n",
       "90345               VMC                    NaN           NaN       27-12-2022  \n",
       "90346               NaN                    NaN           NaN              NaN  \n",
       "90347               NaN                    NaN           NaN       30-12-2022  \n",
       "\n",
       "[3 rows x 31 columns]"
      ]
     },
     "execution_count": 134,
     "metadata": {},
     "output_type": "execute_result"
    }
   ],
   "source": [
    "# taking a peak at a few rows of the data\n",
    "df.tail(3)"
   ]
  },
  {
   "cell_type": "code",
   "execution_count": null,
   "id": "70e81f26-cdf4-4790-9de9-db5ec105e82a",
   "metadata": {},
   "outputs": [],
   "source": [
    "We are now prepared "
   ]
  },
  {
   "cell_type": "markdown",
   "id": "233c62de-785c-4af3-b694-7458a01060e8",
   "metadata": {},
   "source": [
    "### Data Preparation"
   ]
  },
  {
   "cell_type": "code",
   "execution_count": null,
   "id": "f99cfe5a-1ae7-47f0-9efd-9f376c29e9ff",
   "metadata": {},
   "outputs": [],
   "source": [
    "# check for missing data. \n",
    "#df.isna().sum()/len(df)*100\n",
    "#df[\"Far description\"].unique()\n",
    "#df.groupby('Model',dropna=False)['Total.Fatal.Injuries'].sum()"
   ]
  },
  {
   "cell_type": "code",
   "execution_count": null,
   "id": "c63c6254-b18b-4bb5-b8b6-298fb1158613",
   "metadata": {},
   "outputs": [],
   "source": []
  },
  {
   "cell_type": "markdown",
   "id": "1b7672f7-4991-413a-a78b-a35650892218",
   "metadata": {},
   "source": [
    "### Exploratory Data Analysis"
   ]
  },
  {
   "cell_type": "code",
   "execution_count": null,
   "id": "ef4d7d03-1f67-4e73-9c0c-3ca2e79baa20",
   "metadata": {},
   "outputs": [],
   "source": []
  },
  {
   "cell_type": "code",
   "execution_count": null,
   "id": "1e82a48f-8571-4a85-8789-e0ca31c297b6",
   "metadata": {},
   "outputs": [],
   "source": []
  },
  {
   "cell_type": "markdown",
   "id": "a32652ce-3c6f-45f8-8e63-1b47f3ed7154",
   "metadata": {},
   "source": [
    "### Conclusion"
   ]
  },
  {
   "cell_type": "code",
   "execution_count": null,
   "id": "c854ee0a-e7bc-4a79-9f30-f02a453e5202",
   "metadata": {},
   "outputs": [],
   "source": []
  },
  {
   "cell_type": "code",
   "execution_count": null,
   "id": "0cde3ed5-1827-40d0-8da8-16cfd4de377e",
   "metadata": {},
   "outputs": [],
   "source": []
  },
  {
   "cell_type": "markdown",
   "id": "27c1f12f-36cf-42f1-b548-839da12e5ea8",
   "metadata": {},
   "source": [
    "### Limitations"
   ]
  },
  {
   "cell_type": "code",
   "execution_count": null,
   "id": "065d98c3-22b8-4ea7-bfd5-f519f540435b",
   "metadata": {},
   "outputs": [],
   "source": []
  },
  {
   "cell_type": "code",
   "execution_count": null,
   "id": "373bc175-5ab7-4b15-a0ed-69a64249c995",
   "metadata": {},
   "outputs": [],
   "source": []
  },
  {
   "cell_type": "markdown",
   "id": "d6aa31e3-2b8b-42db-94db-e24e008f9541",
   "metadata": {},
   "source": [
    "## Recommendations"
   ]
  },
  {
   "cell_type": "code",
   "execution_count": null,
   "id": "0d188404-b919-4b2f-b2a1-48da7e1a57f2",
   "metadata": {},
   "outputs": [],
   "source": []
  },
  {
   "cell_type": "code",
   "execution_count": null,
   "id": "cc05d14a-12e9-43f9-b264-c0194d952bfe",
   "metadata": {},
   "outputs": [],
   "source": []
  },
  {
   "cell_type": "markdown",
   "id": "59571745-f3d0-4e56-96b1-8969f7991d3f",
   "metadata": {},
   "source": [
    "## Next Steps"
   ]
  },
  {
   "cell_type": "code",
   "execution_count": null,
   "id": "e27844d7-f8e4-41df-9ba5-746dde5fe1b2",
   "metadata": {},
   "outputs": [],
   "source": []
  },
  {
   "cell_type": "code",
   "execution_count": null,
   "id": "8a9135a5-5fb2-4b02-a97e-ba4f2fa3426a",
   "metadata": {},
   "outputs": [],
   "source": []
  }
 ],
 "metadata": {
  "kernelspec": {
   "display_name": "Python (my-learn-env)",
   "language": "python",
   "name": "my-learn-env"
  },
  "language_info": {
   "codemirror_mode": {
    "name": "ipython",
    "version": 3
   },
   "file_extension": ".py",
   "mimetype": "text/x-python",
   "name": "python",
   "nbconvert_exporter": "python",
   "pygments_lexer": "ipython3",
   "version": "3.9.18"
  }
 },
 "nbformat": 4,
 "nbformat_minor": 5
}
