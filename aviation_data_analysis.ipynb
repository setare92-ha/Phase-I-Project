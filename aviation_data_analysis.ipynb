{
 "cells": [
  {
   "cell_type": "markdown",
   "id": "e7af6fc1-83e0-4809-ac7d-f1c312d142fa",
   "metadata": {},
   "source": [
    "# Aviation Crash Data Analysis "
   ]
  },
  {
   "cell_type": "markdown",
   "id": "fb296bd9-a5eb-45be-b479-be254b860232",
   "metadata": {},
   "source": [
    "<center><img src=\"./images/Header.png\" \n",
    "    Width=\"1000\">"
   ]
  },
  {
   "cell_type": "markdown",
   "id": "c3ab1a74-4baa-4f73-94fb-88c222a37207",
   "metadata": {},
   "source": [
    "## 1. Business Understanding "
   ]
  },
  {
   "cell_type": "markdown",
   "id": "a1dba2b7-c4f7-4d70-8a12-ecf9bf7c0fc7",
   "metadata": {},
   "source": [
    "### 1.1. Business Objective\n",
    "This project analyzes the [aviation accident dataset](https://www.kaggle.com/datasets/khsamaha/aviation-accident-database-synopses) on Kaggle. The findings will be used to make recommendations to stakeholders that may be looking to expand their business through purchasing and operating airplanes for commercial and private enterprises. \n",
    "\n",
    "### 1.2. Background Information\n",
    "Before proceeding any further, we do some research to gain some domain knowledge. Different measures could be considered for assessing the safety of aircrafts. For example, the *number of fatal crashes per every 100,000 flights* seems like a standard measure to consider. The *number of non-fatal incidents that led to injuries* or required the pilot to take extreme measures for landing the aircraft may be considered as a secondary measure [REF](https://assets.performance.gov/APG/files/2023/june/FY2023_June_DOT_Progress_Aviation_Safety.pdf).\n",
    "\n",
    "Some aspects of safety we can investigate are: \n",
    "- aircraft make and model: certain models may be more susciptible to incidents due to inherent manufacturing/design flaws.\n",
    "- number of engines: a 4-engine aircraft should be safer compared to a 2-engine one\n",
    "- location: mountanous regions or locations with extreme weather conditions could be more accident-prone.\n",
    "- manufacturer's safety compliance policies: quantifiable metrics such as the frequency of inspections could be studied provided that the data is available.\n",
    "\n",
    "### 1.3. Data Mining Goals\n",
    "A successful mining of the data would determine potentail factors that affect the safety of aircrafts. The correlation of each factor to aircraft safety and the strength of such correlation will provide insights to identify the lowest-risk aircrafts that the client can start its business endeavor with. \n",
    "\n",
    "### 1.4. Project Plan\n",
    "We will first skim the data provided to get a preliminary understanding of what's available, whether it's clean and ready for use. Next, we will determine the useful data for our analysis. This portion of the data will be prepared, cleaned and organized. In the end, we will use insights from the data along with visualizations to make appropriate business recommendations. As a complementary part, limitations of the work along with potential future investigations will be highlighted.   "
   ]
  },
  {
   "cell_type": "markdown",
   "id": "9d66f7d9-433a-402d-80db-e7c51e34c4db",
   "metadata": {},
   "source": [
    "## 2. Data Understanding"
   ]
  },
  {
   "cell_type": "markdown",
   "id": "8df68108-b3a8-4489-9734-4930a7d175c6",
   "metadata": {},
   "source": [
    "In this section, we take a first look at the data to get a preliminary understanding of its type and what it contains. "
   ]
  },
  {
   "cell_type": "code",
   "execution_count": 135,
   "id": "16d25c5f-724b-4778-b2d4-fb79b84c308d",
   "metadata": {},
   "outputs": [],
   "source": [
    "# importing the required modules\n",
    "import pandas as pd\n",
    "import numpy as np\n",
    "import matplotlib as plt\n",
    "%matplotlib inline"
   ]
  },
  {
   "cell_type": "markdown",
   "id": "70270781-e12b-4f85-92bb-5fef9c290388",
   "metadata": {},
   "source": [
    "### 2.1. Data Description\n",
    "We use the [aviation accident dataset](https://www.kaggle.com/datasets/khsamaha/aviation-accident-database-synopses) available on Kaggle."
   ]
  },
  {
   "cell_type": "code",
   "execution_count": 136,
   "id": "fbf55c9d-0e70-4dcd-a744-43ea4710bf39",
   "metadata": {},
   "outputs": [
    {
     "name": "stdout",
     "output_type": "stream",
     "text": [
      "<class 'pandas.core.frame.DataFrame'>\n",
      "RangeIndex: 90348 entries, 0 to 90347\n",
      "Data columns (total 31 columns):\n",
      " #   Column                  Non-Null Count  Dtype  \n",
      "---  ------                  --------------  -----  \n",
      " 0   Event.Id                88889 non-null  object \n",
      " 1   Investigation.Type      90348 non-null  object \n",
      " 2   Accident.Number         88889 non-null  object \n",
      " 3   Event.Date              88889 non-null  object \n",
      " 4   Location                88837 non-null  object \n",
      " 5   Country                 88663 non-null  object \n",
      " 6   Latitude                34382 non-null  object \n",
      " 7   Longitude               34373 non-null  object \n",
      " 8   Airport.Code            50132 non-null  object \n",
      " 9   Airport.Name            52704 non-null  object \n",
      " 10  Injury.Severity         87889 non-null  object \n",
      " 11  Aircraft.damage         85695 non-null  object \n",
      " 12  Aircraft.Category       32287 non-null  object \n",
      " 13  Registration.Number     87507 non-null  object \n",
      " 14  Make                    88826 non-null  object \n",
      " 15  Model                   88797 non-null  object \n",
      " 16  Amateur.Built           88787 non-null  object \n",
      " 17  Number.of.Engines       82805 non-null  float64\n",
      " 18  Engine.Type             81793 non-null  object \n",
      " 19  FAR.Description         32023 non-null  object \n",
      " 20  Schedule                12582 non-null  object \n",
      " 21  Purpose.of.flight       82697 non-null  object \n",
      " 22  Air.carrier             16648 non-null  object \n",
      " 23  Total.Fatal.Injuries    77488 non-null  float64\n",
      " 24  Total.Serious.Injuries  76379 non-null  float64\n",
      " 25  Total.Minor.Injuries    76956 non-null  float64\n",
      " 26  Total.Uninjured         82977 non-null  float64\n",
      " 27  Weather.Condition       84397 non-null  object \n",
      " 28  Broad.phase.of.flight   61724 non-null  object \n",
      " 29  Report.Status           82505 non-null  object \n",
      " 30  Publication.Date        73659 non-null  object \n",
      "dtypes: float64(5), object(26)\n",
      "memory usage: 21.4+ MB\n"
     ]
    }
   ],
   "source": [
    "# read the data \n",
    "df = pd.read_csv(\"./data/Aviation_Data.csv\",low_memory=False)\n",
    "# inspect the data\n",
    "df.info()"
   ]
  },
  {
   "cell_type": "code",
   "execution_count": 142,
   "id": "552d1a04-d81d-4654-9519-2b4e8d786bd6",
   "metadata": {},
   "outputs": [
    {
     "name": "stdout",
     "output_type": "stream",
     "text": [
      "The data has 90348 rows and 31 columns.\n"
     ]
    }
   ],
   "source": [
    "print(f\"The data has {len(df)} rows and {len(df.columns)} columns.\")"
   ]
  },
  {
   "cell_type": "markdown",
   "id": "b158e6bd-3526-4b6a-8f25-bb4abab33be9",
   "metadata": {},
   "source": [
    "Let's take a look at some statistics for the numerical data: "
   ]
  },
  {
   "cell_type": "code",
   "execution_count": 146,
   "id": "c01ce5f8-b7cc-41db-9a3b-a48d07aa8b67",
   "metadata": {},
   "outputs": [
    {
     "data": {
      "text/html": [
       "<div>\n",
       "<style scoped>\n",
       "    .dataframe tbody tr th:only-of-type {\n",
       "        vertical-align: middle;\n",
       "    }\n",
       "\n",
       "    .dataframe tbody tr th {\n",
       "        vertical-align: top;\n",
       "    }\n",
       "\n",
       "    .dataframe thead th {\n",
       "        text-align: right;\n",
       "    }\n",
       "</style>\n",
       "<table border=\"1\" class=\"dataframe\">\n",
       "  <thead>\n",
       "    <tr style=\"text-align: right;\">\n",
       "      <th></th>\n",
       "      <th>Number_of_engines</th>\n",
       "      <th>Total_fatal_injuries</th>\n",
       "      <th>Total_serious_injuries</th>\n",
       "      <th>Total_minor_injuries</th>\n",
       "      <th>Total_uninjured</th>\n",
       "    </tr>\n",
       "  </thead>\n",
       "  <tbody>\n",
       "    <tr>\n",
       "      <th>count</th>\n",
       "      <td>82805.000000</td>\n",
       "      <td>77488.000000</td>\n",
       "      <td>76379.000000</td>\n",
       "      <td>76956.000000</td>\n",
       "      <td>82977.000000</td>\n",
       "    </tr>\n",
       "    <tr>\n",
       "      <th>mean</th>\n",
       "      <td>1.146585</td>\n",
       "      <td>0.647855</td>\n",
       "      <td>0.279881</td>\n",
       "      <td>0.357061</td>\n",
       "      <td>5.325440</td>\n",
       "    </tr>\n",
       "    <tr>\n",
       "      <th>std</th>\n",
       "      <td>0.446510</td>\n",
       "      <td>5.485960</td>\n",
       "      <td>1.544084</td>\n",
       "      <td>2.235625</td>\n",
       "      <td>27.913634</td>\n",
       "    </tr>\n",
       "    <tr>\n",
       "      <th>min</th>\n",
       "      <td>0.000000</td>\n",
       "      <td>0.000000</td>\n",
       "      <td>0.000000</td>\n",
       "      <td>0.000000</td>\n",
       "      <td>0.000000</td>\n",
       "    </tr>\n",
       "    <tr>\n",
       "      <th>25%</th>\n",
       "      <td>1.000000</td>\n",
       "      <td>0.000000</td>\n",
       "      <td>0.000000</td>\n",
       "      <td>0.000000</td>\n",
       "      <td>0.000000</td>\n",
       "    </tr>\n",
       "    <tr>\n",
       "      <th>50%</th>\n",
       "      <td>1.000000</td>\n",
       "      <td>0.000000</td>\n",
       "      <td>0.000000</td>\n",
       "      <td>0.000000</td>\n",
       "      <td>1.000000</td>\n",
       "    </tr>\n",
       "    <tr>\n",
       "      <th>75%</th>\n",
       "      <td>1.000000</td>\n",
       "      <td>0.000000</td>\n",
       "      <td>0.000000</td>\n",
       "      <td>0.000000</td>\n",
       "      <td>2.000000</td>\n",
       "    </tr>\n",
       "    <tr>\n",
       "      <th>max</th>\n",
       "      <td>8.000000</td>\n",
       "      <td>349.000000</td>\n",
       "      <td>161.000000</td>\n",
       "      <td>380.000000</td>\n",
       "      <td>699.000000</td>\n",
       "    </tr>\n",
       "  </tbody>\n",
       "</table>\n",
       "</div>"
      ],
      "text/plain": [
       "       Number_of_engines  Total_fatal_injuries  Total_serious_injuries  \\\n",
       "count       82805.000000          77488.000000            76379.000000   \n",
       "mean            1.146585              0.647855                0.279881   \n",
       "std             0.446510              5.485960                1.544084   \n",
       "min             0.000000              0.000000                0.000000   \n",
       "25%             1.000000              0.000000                0.000000   \n",
       "50%             1.000000              0.000000                0.000000   \n",
       "75%             1.000000              0.000000                0.000000   \n",
       "max             8.000000            349.000000              161.000000   \n",
       "\n",
       "       Total_minor_injuries  Total_uninjured  \n",
       "count          76956.000000     82977.000000  \n",
       "mean               0.357061         5.325440  \n",
       "std                2.235625        27.913634  \n",
       "min                0.000000         0.000000  \n",
       "25%                0.000000         0.000000  \n",
       "50%                0.000000         1.000000  \n",
       "75%                0.000000         2.000000  \n",
       "max              380.000000       699.000000  "
      ]
     },
     "execution_count": 146,
     "metadata": {},
     "output_type": "execute_result"
    }
   ],
   "source": [
    "df.describe()"
   ]
  },
  {
   "cell_type": "markdown",
   "id": "82e74bc8-e42f-4565-9f0d-cc3267f59875",
   "metadata": {},
   "source": [
    "### 2.2. Improving Aesthetics/Readability"
   ]
  },
  {
   "cell_type": "code",
   "execution_count": 147,
   "id": "c76f2c3e-a872-4c0a-888b-1ef3ef82b414",
   "metadata": {},
   "outputs": [],
   "source": [
    "# replace . with _ in columns names to increase readability/facilitate use of column names \n",
    "df.rename(columns=lambda x: x.replace('.','_'),inplace=True)\n",
    "# standardize the capitalization of column names\n",
    "df.columns = [column.capitalize() for column in df.columns]\n",
    "df.rename(columns={\"Far_description\": \"FAR_description\"},inplace=True)"
   ]
  },
  {
   "cell_type": "code",
   "execution_count": 148,
   "id": "5960482e-48c9-4b2c-b13e-cd39d72b4b77",
   "metadata": {},
   "outputs": [
    {
     "data": {
      "text/html": [
       "<div>\n",
       "<style scoped>\n",
       "    .dataframe tbody tr th:only-of-type {\n",
       "        vertical-align: middle;\n",
       "    }\n",
       "\n",
       "    .dataframe tbody tr th {\n",
       "        vertical-align: top;\n",
       "    }\n",
       "\n",
       "    .dataframe thead th {\n",
       "        text-align: right;\n",
       "    }\n",
       "</style>\n",
       "<table border=\"1\" class=\"dataframe\">\n",
       "  <thead>\n",
       "    <tr style=\"text-align: right;\">\n",
       "      <th></th>\n",
       "      <th>Event_id</th>\n",
       "      <th>Investigation_type</th>\n",
       "      <th>Accident_number</th>\n",
       "      <th>Event_date</th>\n",
       "      <th>Location</th>\n",
       "      <th>Country</th>\n",
       "      <th>Latitude</th>\n",
       "      <th>Longitude</th>\n",
       "      <th>Airport_code</th>\n",
       "      <th>Airport_name</th>\n",
       "      <th>Injury_severity</th>\n",
       "      <th>Aircraft_damage</th>\n",
       "      <th>Aircraft_category</th>\n",
       "      <th>Registration_number</th>\n",
       "      <th>Make</th>\n",
       "      <th>Model</th>\n",
       "      <th>Amateur_built</th>\n",
       "      <th>Number_of_engines</th>\n",
       "      <th>Engine_type</th>\n",
       "      <th>FAR_description</th>\n",
       "      <th>Schedule</th>\n",
       "      <th>Purpose_of_flight</th>\n",
       "      <th>Air_carrier</th>\n",
       "      <th>Total_fatal_injuries</th>\n",
       "      <th>Total_serious_injuries</th>\n",
       "      <th>Total_minor_injuries</th>\n",
       "      <th>Total_uninjured</th>\n",
       "      <th>Weather_condition</th>\n",
       "      <th>Broad_phase_of_flight</th>\n",
       "      <th>Report_status</th>\n",
       "      <th>Publication_date</th>\n",
       "    </tr>\n",
       "  </thead>\n",
       "  <tbody>\n",
       "    <tr>\n",
       "      <th>0</th>\n",
       "      <td>20001218X45444</td>\n",
       "      <td>Accident</td>\n",
       "      <td>SEA87LA080</td>\n",
       "      <td>1948-10-24</td>\n",
       "      <td>MOOSE CREEK, ID</td>\n",
       "      <td>United States</td>\n",
       "      <td>NaN</td>\n",
       "      <td>NaN</td>\n",
       "      <td>NaN</td>\n",
       "      <td>NaN</td>\n",
       "      <td>Fatal(2)</td>\n",
       "      <td>Destroyed</td>\n",
       "      <td>NaN</td>\n",
       "      <td>NC6404</td>\n",
       "      <td>Stinson</td>\n",
       "      <td>108-3</td>\n",
       "      <td>No</td>\n",
       "      <td>1.0</td>\n",
       "      <td>Reciprocating</td>\n",
       "      <td>NaN</td>\n",
       "      <td>NaN</td>\n",
       "      <td>Personal</td>\n",
       "      <td>NaN</td>\n",
       "      <td>2.0</td>\n",
       "      <td>0.0</td>\n",
       "      <td>0.0</td>\n",
       "      <td>0.0</td>\n",
       "      <td>UNK</td>\n",
       "      <td>Cruise</td>\n",
       "      <td>Probable Cause</td>\n",
       "      <td>NaN</td>\n",
       "    </tr>\n",
       "    <tr>\n",
       "      <th>1</th>\n",
       "      <td>20001218X45447</td>\n",
       "      <td>Accident</td>\n",
       "      <td>LAX94LA336</td>\n",
       "      <td>1962-07-19</td>\n",
       "      <td>BRIDGEPORT, CA</td>\n",
       "      <td>United States</td>\n",
       "      <td>NaN</td>\n",
       "      <td>NaN</td>\n",
       "      <td>NaN</td>\n",
       "      <td>NaN</td>\n",
       "      <td>Fatal(4)</td>\n",
       "      <td>Destroyed</td>\n",
       "      <td>NaN</td>\n",
       "      <td>N5069P</td>\n",
       "      <td>Piper</td>\n",
       "      <td>PA24-180</td>\n",
       "      <td>No</td>\n",
       "      <td>1.0</td>\n",
       "      <td>Reciprocating</td>\n",
       "      <td>NaN</td>\n",
       "      <td>NaN</td>\n",
       "      <td>Personal</td>\n",
       "      <td>NaN</td>\n",
       "      <td>4.0</td>\n",
       "      <td>0.0</td>\n",
       "      <td>0.0</td>\n",
       "      <td>0.0</td>\n",
       "      <td>UNK</td>\n",
       "      <td>Unknown</td>\n",
       "      <td>Probable Cause</td>\n",
       "      <td>19-09-1996</td>\n",
       "    </tr>\n",
       "    <tr>\n",
       "      <th>2</th>\n",
       "      <td>20061025X01555</td>\n",
       "      <td>Accident</td>\n",
       "      <td>NYC07LA005</td>\n",
       "      <td>1974-08-30</td>\n",
       "      <td>Saltville, VA</td>\n",
       "      <td>United States</td>\n",
       "      <td>36.922223</td>\n",
       "      <td>-81.878056</td>\n",
       "      <td>NaN</td>\n",
       "      <td>NaN</td>\n",
       "      <td>Fatal(3)</td>\n",
       "      <td>Destroyed</td>\n",
       "      <td>NaN</td>\n",
       "      <td>N5142R</td>\n",
       "      <td>Cessna</td>\n",
       "      <td>172M</td>\n",
       "      <td>No</td>\n",
       "      <td>1.0</td>\n",
       "      <td>Reciprocating</td>\n",
       "      <td>NaN</td>\n",
       "      <td>NaN</td>\n",
       "      <td>Personal</td>\n",
       "      <td>NaN</td>\n",
       "      <td>3.0</td>\n",
       "      <td>NaN</td>\n",
       "      <td>NaN</td>\n",
       "      <td>NaN</td>\n",
       "      <td>IMC</td>\n",
       "      <td>Cruise</td>\n",
       "      <td>Probable Cause</td>\n",
       "      <td>26-02-2007</td>\n",
       "    </tr>\n",
       "    <tr>\n",
       "      <th>3</th>\n",
       "      <td>20001218X45448</td>\n",
       "      <td>Accident</td>\n",
       "      <td>LAX96LA321</td>\n",
       "      <td>1977-06-19</td>\n",
       "      <td>EUREKA, CA</td>\n",
       "      <td>United States</td>\n",
       "      <td>NaN</td>\n",
       "      <td>NaN</td>\n",
       "      <td>NaN</td>\n",
       "      <td>NaN</td>\n",
       "      <td>Fatal(2)</td>\n",
       "      <td>Destroyed</td>\n",
       "      <td>NaN</td>\n",
       "      <td>N1168J</td>\n",
       "      <td>Rockwell</td>\n",
       "      <td>112</td>\n",
       "      <td>No</td>\n",
       "      <td>1.0</td>\n",
       "      <td>Reciprocating</td>\n",
       "      <td>NaN</td>\n",
       "      <td>NaN</td>\n",
       "      <td>Personal</td>\n",
       "      <td>NaN</td>\n",
       "      <td>2.0</td>\n",
       "      <td>0.0</td>\n",
       "      <td>0.0</td>\n",
       "      <td>0.0</td>\n",
       "      <td>IMC</td>\n",
       "      <td>Cruise</td>\n",
       "      <td>Probable Cause</td>\n",
       "      <td>12-09-2000</td>\n",
       "    </tr>\n",
       "    <tr>\n",
       "      <th>4</th>\n",
       "      <td>20041105X01764</td>\n",
       "      <td>Accident</td>\n",
       "      <td>CHI79FA064</td>\n",
       "      <td>1979-08-02</td>\n",
       "      <td>Canton, OH</td>\n",
       "      <td>United States</td>\n",
       "      <td>NaN</td>\n",
       "      <td>NaN</td>\n",
       "      <td>NaN</td>\n",
       "      <td>NaN</td>\n",
       "      <td>Fatal(1)</td>\n",
       "      <td>Destroyed</td>\n",
       "      <td>NaN</td>\n",
       "      <td>N15NY</td>\n",
       "      <td>Cessna</td>\n",
       "      <td>501</td>\n",
       "      <td>No</td>\n",
       "      <td>NaN</td>\n",
       "      <td>NaN</td>\n",
       "      <td>NaN</td>\n",
       "      <td>NaN</td>\n",
       "      <td>Personal</td>\n",
       "      <td>NaN</td>\n",
       "      <td>1.0</td>\n",
       "      <td>2.0</td>\n",
       "      <td>NaN</td>\n",
       "      <td>0.0</td>\n",
       "      <td>VMC</td>\n",
       "      <td>Approach</td>\n",
       "      <td>Probable Cause</td>\n",
       "      <td>16-04-1980</td>\n",
       "    </tr>\n",
       "  </tbody>\n",
       "</table>\n",
       "</div>"
      ],
      "text/plain": [
       "         Event_id Investigation_type Accident_number  Event_date  \\\n",
       "0  20001218X45444           Accident      SEA87LA080  1948-10-24   \n",
       "1  20001218X45447           Accident      LAX94LA336  1962-07-19   \n",
       "2  20061025X01555           Accident      NYC07LA005  1974-08-30   \n",
       "3  20001218X45448           Accident      LAX96LA321  1977-06-19   \n",
       "4  20041105X01764           Accident      CHI79FA064  1979-08-02   \n",
       "\n",
       "          Location        Country   Latitude   Longitude Airport_code  \\\n",
       "0  MOOSE CREEK, ID  United States        NaN         NaN          NaN   \n",
       "1   BRIDGEPORT, CA  United States        NaN         NaN          NaN   \n",
       "2    Saltville, VA  United States  36.922223  -81.878056          NaN   \n",
       "3       EUREKA, CA  United States        NaN         NaN          NaN   \n",
       "4       Canton, OH  United States        NaN         NaN          NaN   \n",
       "\n",
       "  Airport_name Injury_severity Aircraft_damage Aircraft_category  \\\n",
       "0          NaN        Fatal(2)       Destroyed               NaN   \n",
       "1          NaN        Fatal(4)       Destroyed               NaN   \n",
       "2          NaN        Fatal(3)       Destroyed               NaN   \n",
       "3          NaN        Fatal(2)       Destroyed               NaN   \n",
       "4          NaN        Fatal(1)       Destroyed               NaN   \n",
       "\n",
       "  Registration_number      Make     Model Amateur_built  Number_of_engines  \\\n",
       "0              NC6404   Stinson     108-3            No                1.0   \n",
       "1              N5069P     Piper  PA24-180            No                1.0   \n",
       "2              N5142R    Cessna      172M            No                1.0   \n",
       "3              N1168J  Rockwell       112            No                1.0   \n",
       "4               N15NY    Cessna       501            No                NaN   \n",
       "\n",
       "     Engine_type FAR_description Schedule Purpose_of_flight Air_carrier  \\\n",
       "0  Reciprocating             NaN      NaN          Personal         NaN   \n",
       "1  Reciprocating             NaN      NaN          Personal         NaN   \n",
       "2  Reciprocating             NaN      NaN          Personal         NaN   \n",
       "3  Reciprocating             NaN      NaN          Personal         NaN   \n",
       "4            NaN             NaN      NaN          Personal         NaN   \n",
       "\n",
       "   Total_fatal_injuries  Total_serious_injuries  Total_minor_injuries  \\\n",
       "0                   2.0                     0.0                   0.0   \n",
       "1                   4.0                     0.0                   0.0   \n",
       "2                   3.0                     NaN                   NaN   \n",
       "3                   2.0                     0.0                   0.0   \n",
       "4                   1.0                     2.0                   NaN   \n",
       "\n",
       "   Total_uninjured Weather_condition Broad_phase_of_flight   Report_status  \\\n",
       "0              0.0               UNK                Cruise  Probable Cause   \n",
       "1              0.0               UNK               Unknown  Probable Cause   \n",
       "2              NaN               IMC                Cruise  Probable Cause   \n",
       "3              0.0               IMC                Cruise  Probable Cause   \n",
       "4              0.0               VMC              Approach  Probable Cause   \n",
       "\n",
       "  Publication_date  \n",
       "0              NaN  \n",
       "1       19-09-1996  \n",
       "2       26-02-2007  \n",
       "3       12-09-2000  \n",
       "4       16-04-1980  "
      ]
     },
     "execution_count": 148,
     "metadata": {},
     "output_type": "execute_result"
    }
   ],
   "source": [
    "# taking a peak at a few rows of the data\n",
    "pd.set_option('display.max_columns', None)\n",
    "df.head(5)"
   ]
  },
  {
   "cell_type": "markdown",
   "id": "9b25023f-c2f2-42ef-984a-b831fee58c4c",
   "metadata": {},
   "source": [
    "### 2.3. Improve Understanding of the Data"
   ]
  },
  {
   "cell_type": "code",
   "execution_count": 149,
   "id": "dd21b5ca-d690-48b7-a07c-364cc32ffeda",
   "metadata": {},
   "outputs": [
    {
     "name": "stdout",
     "output_type": "stream",
     "text": [
      "Categorical data for Broad phase of flight:\n",
      "['Cruise' 'Unknown' 'Approach' 'Climb' 'Takeoff' 'Landing' 'Taxi'\n",
      " 'Descent' 'Maneuvering' 'Standing' 'Go-around' 'Other' nan] \n",
      "\n",
      "Categorical data for FAR description:\n",
      "[nan 'Part 129: Foreign' 'Part 91: General Aviation'\n",
      " 'Part 135: Air Taxi & Commuter' 'Part 125: 20+ Pax,6000+ lbs'\n",
      " 'Part 121: Air Carrier' 'Part 137: Agricultural'\n",
      " 'Part 133: Rotorcraft Ext. Load' 'Unknown' 'Part 91F: Special Flt Ops.'\n",
      " 'Non-U.S., Non-Commercial' 'Public Aircraft' 'Non-U.S., Commercial'\n",
      " 'Public Use' 'Armed Forces' 'Part 91 Subpart K: Fractional' '091' 'NUSC'\n",
      " '135' 'NUSN' '121' '137' '129' '133' '091K' 'UNK' 'PUBU' 'ARMF' '103'\n",
      " '125' '437' '107'] \n",
      "\n",
      "Categorical data for Engine type:\n",
      "['Reciprocating' nan 'Turbo Fan' 'Turbo Shaft' 'Unknown' 'Turbo Prop'\n",
      " 'Turbo Jet' 'Electric' 'Hybrid Rocket' 'Geared Turbofan' 'LR' 'NONE'\n",
      " 'UNK']\n"
     ]
    }
   ],
   "source": [
    "# Take a look at some of the categorical data you don't fully understand\n",
    "print('Categorical data for Broad phase of flight:')\n",
    "print(df[\"Broad_phase_of_flight\"].unique(),'\\n')\n",
    "\n",
    "print('Categorical data for FAR description:')\n",
    "print(df[\"FAR_description\"].unique(),'\\n')\n",
    "\n",
    "print('Categorical data for Engine type:')\n",
    "print(df[\"Engine_type\"].unique())"
   ]
  },
  {
   "cell_type": "markdown",
   "id": "fd71e728-4440-4554-8456-2773e1a4cfc4",
   "metadata": {},
   "source": [
    "**Important Notes:**\n",
    "- The data has 31 columns. There are two data types: object (string/text) and float. We note that the float data type seems appropriate for the columns listed (i.e., number of engines, total fatal/serious/minor injuries, and total uninjured). An int type may be more appropriate for these categories but changing the data type might introduce unwanted issues when performing statistical analysis so we will keep it as is for now. \n",
    "- Notice that some columns have substantial amount of missing data. We will address this in more detail in the next sections (Data Preparation and EDA).\n",
    "- I took some time to make sure I understand what each column represents and brainstorm whether it can be leveraged for the type of analysis we're doing. Below, I will include explanation on a number of items that were not clear to me:\n",
    "    - **Investigation type:** incident vs. accident. Incidents refer to occurrences that do not result in signifcant damage to the aircraft.\n",
    "    - **Weather condition:** IMC (Instrument Meteorological Conditions) and VMC (Visual Meteorological Conditions). The former is associated with reduced visibility while the latter usually corresponds to clear skies. \n",
    "    - **FAR description:** Represents descriptions or codes that specify which specific Federal Aviation Regulations are relevant to each accident. Recurrent FAR violations in certain categories (such as maintenance) can be raise red flags for aviation companies.\n",
    "    - **Engine type:** includes reciprocating, turbo jet, etc. Engine type has been documented to have an effect with aircraft safety [REF](https://dk.upce.cz/bitstream/handle/10195/74791/Use_of_Aircraft_Engine_Type_and_Quantity_and_their_Impact_on_Air_Transport_Safety.pdf?sequence=1&isAllowed=y).\n",
    "    - **Broad phase of flight:** indicates the phase of flight at which the accident or incident happened. Includes categorical data such as \"Cruise\", \"Taxi\", etc. This may be useful for identifying risks associated with each phase of flight, but may not be necessarily relevant to our analysis.\n",
    "    - **Report status:** This item shows whether the report on the accident is at its final stage or it's developing."
   ]
  },
  {
   "cell_type": "markdown",
   "id": "741090ab-c4ec-4c4f-9f67-253ae9934a9d",
   "metadata": {},
   "source": [
    "### 2.4. Summary: \n",
    "- The data has **90348** rows and **31** columns.\n",
    "- The categorical and numerical data included are relevant to answer the question we're after.\n",
    "- Based on what was discussed above, the following features will be of interest for our analysis: event date, investigation type, location, country, injury severity, aircraft damage, aircraft category, make, model, number of engines, engine type, FAR description, air carrier, total injuries and total fatal/serious/minor injuries, total uninjured, and weather condition.\n",
    "- The preliminary look at the data shows that some of the important columns have several NaNs and missin"
   ]
  },
  {
   "cell_type": "markdown",
   "id": "233c62de-785c-4af3-b694-7458a01060e8",
   "metadata": {},
   "source": [
    "## Data Preparation"
   ]
  },
  {
   "cell_type": "markdown",
   "id": "e8d919de-210b-43bb-af40-2eb58bee89f4",
   "metadata": {},
   "source": [
    "**Fixing Data Types:**\n",
    "We start by changing the data type for the event date. The event date is of importance since trends and patterns in aviation accidents may be time-dependent (e.g. a company with high number of accidents in the past may have become a reliable aviation company later on). "
   ]
  },
  {
   "cell_type": "code",
   "execution_count": 100,
   "id": "c26fd774-324b-4223-80af-c599c09dae87",
   "metadata": {},
   "outputs": [],
   "source": [
    "df.Event_date = pd.to_datetime(df.Event_date)"
   ]
  },
  {
   "cell_type": "code",
   "execution_count": 101,
   "id": "5afb8b30-1db3-45be-bb40-abb6356c53ca",
   "metadata": {},
   "outputs": [
    {
     "data": {
      "text/plain": [
       "Event_id                   1.614867\n",
       "Investigation_type         0.000000\n",
       "Accident_number            1.614867\n",
       "Event_date                 1.614867\n",
       "Location                   1.672422\n",
       "Country                    1.865011\n",
       "Latitude                  61.944924\n",
       "Longitude                 61.954886\n",
       "Airport_code              44.512330\n",
       "Airport_name              41.665560\n",
       "Injury_severity            2.721698\n",
       "Aircraft_damage            5.150086\n",
       "Aircraft_category         64.263736\n",
       "Registration_number        3.144508\n",
       "Make                       1.684597\n",
       "Model                      1.716695\n",
       "Amateur_built              1.727764\n",
       "Number_of_engines          8.348829\n",
       "Engine_type                9.468942\n",
       "FAR_description           64.555939\n",
       "Schedule                  86.073848\n",
       "Purpose_of_flight          8.468367\n",
       "Air_carrier               81.573471\n",
       "Total_fatal_injuries      14.233851\n",
       "Total_serious_injuries    15.461327\n",
       "Total_minor_injuries      14.822686\n",
       "Total_uninjured            8.158454\n",
       "Weather_condition          6.586753\n",
       "Broad_phase_of_flight     31.681941\n",
       "Report_status              8.680878\n",
       "Publication_date          18.471909\n",
       "dtype: float64"
      ]
     },
     "execution_count": 101,
     "metadata": {},
     "output_type": "execute_result"
    }
   ],
   "source": [
    "# check for the percentage of missing data in each category\n",
    "df.isna().sum()/len(df)*100"
   ]
  },
  {
   "cell_type": "markdown",
   "id": "05744e5e-c522-4508-81b0-f8c62e4479ca",
   "metadata": {},
   "source": [
    "We can see that several categories have a lot of missing data (over 50%). Among the data we said we care about in the previous section, \"FAR_description\", \"Aircraft_category\" and \"Air_carrier\" are also part of the categories with a high percentage of missing data. We need to make a decision about how we will handle the missing portion of the data. We can either drop the rows and/or columns or replace the missing data with the most frequent category. Dropping the rows or replacing them is not a good option since we would be throwing away a lot of data. The best option is to drop all columns that have more missing data than a certain threshold value. We assume this **threshold value** to be **30%**. Dropping \"Aircraft_category\" and \"Air_carrier\" may seem like a bad idea but we have the \"Make\" and \"Model\" columns to rely on. "
   ]
  },
  {
   "cell_type": "code",
   "execution_count": 102,
   "id": "182bfdef-0690-4684-8529-966ccc95040e",
   "metadata": {},
   "outputs": [],
   "source": [
    "# drop columns with more than 30% of missing rows. \n",
    "df.dropna(axis=1,thresh=np.round(0.7*len(df)),inplace=True)"
   ]
  },
  {
   "cell_type": "markdown",
   "id": "f121b416-13ac-4662-8c36-a2054f1d7cdb",
   "metadata": {},
   "source": [
    "We also notice that some of the columns contain data that's not required for our analysis. We will drop those columns and only keep the ones we need: Event_date, Location, Country, Injury_severity, Make, Model, Number_of_engines, Engine_type, Total_fatal_injuries, Total_serious_injuries, Total_minor_injuries, Total_uninjured, Weather_condition."
   ]
  },
  {
   "cell_type": "code",
   "execution_count": 103,
   "id": "a8b494a6-d282-4062-a1ad-9d58b9f06757",
   "metadata": {},
   "outputs": [
    {
     "data": {
      "text/html": [
       "<div>\n",
       "<style scoped>\n",
       "    .dataframe tbody tr th:only-of-type {\n",
       "        vertical-align: middle;\n",
       "    }\n",
       "\n",
       "    .dataframe tbody tr th {\n",
       "        vertical-align: top;\n",
       "    }\n",
       "\n",
       "    .dataframe thead th {\n",
       "        text-align: right;\n",
       "    }\n",
       "</style>\n",
       "<table border=\"1\" class=\"dataframe\">\n",
       "  <thead>\n",
       "    <tr style=\"text-align: right;\">\n",
       "      <th></th>\n",
       "      <th>Event_date</th>\n",
       "      <th>Location</th>\n",
       "      <th>Country</th>\n",
       "      <th>Injury_severity</th>\n",
       "      <th>Make</th>\n",
       "      <th>Model</th>\n",
       "      <th>Number_of_engines</th>\n",
       "      <th>Engine_type</th>\n",
       "      <th>Total_fatal_injuries</th>\n",
       "      <th>Total_serious_injuries</th>\n",
       "      <th>Total_minor_injuries</th>\n",
       "      <th>Total_uninjured</th>\n",
       "      <th>Weather_condition</th>\n",
       "    </tr>\n",
       "  </thead>\n",
       "  <tbody>\n",
       "    <tr>\n",
       "      <th>0</th>\n",
       "      <td>1948-10-24</td>\n",
       "      <td>MOOSE CREEK, ID</td>\n",
       "      <td>United States</td>\n",
       "      <td>Fatal(2)</td>\n",
       "      <td>Stinson</td>\n",
       "      <td>108-3</td>\n",
       "      <td>1.0</td>\n",
       "      <td>Reciprocating</td>\n",
       "      <td>2.0</td>\n",
       "      <td>0.0</td>\n",
       "      <td>0.0</td>\n",
       "      <td>0.0</td>\n",
       "      <td>UNK</td>\n",
       "    </tr>\n",
       "    <tr>\n",
       "      <th>1</th>\n",
       "      <td>1962-07-19</td>\n",
       "      <td>BRIDGEPORT, CA</td>\n",
       "      <td>United States</td>\n",
       "      <td>Fatal(4)</td>\n",
       "      <td>Piper</td>\n",
       "      <td>PA24-180</td>\n",
       "      <td>1.0</td>\n",
       "      <td>Reciprocating</td>\n",
       "      <td>4.0</td>\n",
       "      <td>0.0</td>\n",
       "      <td>0.0</td>\n",
       "      <td>0.0</td>\n",
       "      <td>UNK</td>\n",
       "    </tr>\n",
       "    <tr>\n",
       "      <th>2</th>\n",
       "      <td>1974-08-30</td>\n",
       "      <td>Saltville, VA</td>\n",
       "      <td>United States</td>\n",
       "      <td>Fatal(3)</td>\n",
       "      <td>Cessna</td>\n",
       "      <td>172M</td>\n",
       "      <td>1.0</td>\n",
       "      <td>Reciprocating</td>\n",
       "      <td>3.0</td>\n",
       "      <td>NaN</td>\n",
       "      <td>NaN</td>\n",
       "      <td>NaN</td>\n",
       "      <td>IMC</td>\n",
       "    </tr>\n",
       "    <tr>\n",
       "      <th>3</th>\n",
       "      <td>1977-06-19</td>\n",
       "      <td>EUREKA, CA</td>\n",
       "      <td>United States</td>\n",
       "      <td>Fatal(2)</td>\n",
       "      <td>Rockwell</td>\n",
       "      <td>112</td>\n",
       "      <td>1.0</td>\n",
       "      <td>Reciprocating</td>\n",
       "      <td>2.0</td>\n",
       "      <td>0.0</td>\n",
       "      <td>0.0</td>\n",
       "      <td>0.0</td>\n",
       "      <td>IMC</td>\n",
       "    </tr>\n",
       "    <tr>\n",
       "      <th>4</th>\n",
       "      <td>1979-08-02</td>\n",
       "      <td>Canton, OH</td>\n",
       "      <td>United States</td>\n",
       "      <td>Fatal(1)</td>\n",
       "      <td>Cessna</td>\n",
       "      <td>501</td>\n",
       "      <td>NaN</td>\n",
       "      <td>NaN</td>\n",
       "      <td>1.0</td>\n",
       "      <td>2.0</td>\n",
       "      <td>NaN</td>\n",
       "      <td>0.0</td>\n",
       "      <td>VMC</td>\n",
       "    </tr>\n",
       "  </tbody>\n",
       "</table>\n",
       "</div>"
      ],
      "text/plain": [
       "  Event_date         Location        Country Injury_severity      Make  \\\n",
       "0 1948-10-24  MOOSE CREEK, ID  United States        Fatal(2)   Stinson   \n",
       "1 1962-07-19   BRIDGEPORT, CA  United States        Fatal(4)     Piper   \n",
       "2 1974-08-30    Saltville, VA  United States        Fatal(3)    Cessna   \n",
       "3 1977-06-19       EUREKA, CA  United States        Fatal(2)  Rockwell   \n",
       "4 1979-08-02       Canton, OH  United States        Fatal(1)    Cessna   \n",
       "\n",
       "      Model  Number_of_engines    Engine_type  Total_fatal_injuries  \\\n",
       "0     108-3                1.0  Reciprocating                   2.0   \n",
       "1  PA24-180                1.0  Reciprocating                   4.0   \n",
       "2      172M                1.0  Reciprocating                   3.0   \n",
       "3       112                1.0  Reciprocating                   2.0   \n",
       "4       501                NaN            NaN                   1.0   \n",
       "\n",
       "   Total_serious_injuries  Total_minor_injuries  Total_uninjured  \\\n",
       "0                     0.0                   0.0              0.0   \n",
       "1                     0.0                   0.0              0.0   \n",
       "2                     NaN                   NaN              NaN   \n",
       "3                     0.0                   0.0              0.0   \n",
       "4                     2.0                   NaN              0.0   \n",
       "\n",
       "  Weather_condition  \n",
       "0               UNK  \n",
       "1               UNK  \n",
       "2               IMC  \n",
       "3               IMC  \n",
       "4               VMC  "
      ]
     },
     "execution_count": 103,
     "metadata": {},
     "output_type": "execute_result"
    }
   ],
   "source": [
    "cols_to_keep = [\"Event_date\", \"Location\", \"Country\", \"Injury_severity\", \"Make\", \"Model\", \"Number_of_engines\", \"Engine_type\", \"Total_fatal_injuries\", \"Total_serious_injuries\", \"Total_minor_injuries\", \"Total_uninjured\", \"Weather_condition\"]\n",
    "df_subset=df[cols_to_keep];\n",
    "df_subset.head()"
   ]
  },
  {
   "cell_type": "markdown",
   "id": "501ec142-f20a-4153-b901-7cd0444b8ac3",
   "metadata": {},
   "source": [
    "We note that the \"Injury_severity\" column is storing the count for fatal injuries inside a paranthesis in front of the mtype of injury. This is inconvenient since if we use groupby, fatal injuries of different kinds will be treated as different categories while they're all actually one category. We fix this as follows:"
   ]
  },
  {
   "cell_type": "code",
   "execution_count": 104,
   "id": "470e9b1c-aa21-4222-b68e-afae8c3c3ba8",
   "metadata": {},
   "outputs": [
    {
     "name": "stderr",
     "output_type": "stream",
     "text": [
      "C:\\Users\\setar\\AppData\\Local\\Temp\\ipykernel_17232\\2247802715.py:1: SettingWithCopyWarning: \n",
      "A value is trying to be set on a copy of a slice from a DataFrame.\n",
      "Try using .loc[row_indexer,col_indexer] = value instead\n",
      "\n",
      "See the caveats in the documentation: https://pandas.pydata.org/pandas-docs/stable/user_guide/indexing.html#returning-a-view-versus-a-copy\n",
      "  df_subset[\"Injury_severity\"]=df_subset[\"Injury_severity\"].str.split('(').str[0]\n"
     ]
    },
    {
     "data": {
      "text/html": [
       "<div>\n",
       "<style scoped>\n",
       "    .dataframe tbody tr th:only-of-type {\n",
       "        vertical-align: middle;\n",
       "    }\n",
       "\n",
       "    .dataframe tbody tr th {\n",
       "        vertical-align: top;\n",
       "    }\n",
       "\n",
       "    .dataframe thead th {\n",
       "        text-align: right;\n",
       "    }\n",
       "</style>\n",
       "<table border=\"1\" class=\"dataframe\">\n",
       "  <thead>\n",
       "    <tr style=\"text-align: right;\">\n",
       "      <th></th>\n",
       "      <th>Event_date</th>\n",
       "      <th>Location</th>\n",
       "      <th>Country</th>\n",
       "      <th>Injury_severity</th>\n",
       "      <th>Make</th>\n",
       "      <th>Model</th>\n",
       "      <th>Number_of_engines</th>\n",
       "      <th>Engine_type</th>\n",
       "      <th>Total_fatal_injuries</th>\n",
       "      <th>Total_serious_injuries</th>\n",
       "      <th>Total_minor_injuries</th>\n",
       "      <th>Total_uninjured</th>\n",
       "      <th>Weather_condition</th>\n",
       "    </tr>\n",
       "  </thead>\n",
       "  <tbody>\n",
       "    <tr>\n",
       "      <th>0</th>\n",
       "      <td>1948-10-24</td>\n",
       "      <td>MOOSE CREEK, ID</td>\n",
       "      <td>United States</td>\n",
       "      <td>Fatal</td>\n",
       "      <td>Stinson</td>\n",
       "      <td>108-3</td>\n",
       "      <td>1.0</td>\n",
       "      <td>Reciprocating</td>\n",
       "      <td>2.0</td>\n",
       "      <td>0.0</td>\n",
       "      <td>0.0</td>\n",
       "      <td>0.0</td>\n",
       "      <td>UNK</td>\n",
       "    </tr>\n",
       "    <tr>\n",
       "      <th>1</th>\n",
       "      <td>1962-07-19</td>\n",
       "      <td>BRIDGEPORT, CA</td>\n",
       "      <td>United States</td>\n",
       "      <td>Fatal</td>\n",
       "      <td>Piper</td>\n",
       "      <td>PA24-180</td>\n",
       "      <td>1.0</td>\n",
       "      <td>Reciprocating</td>\n",
       "      <td>4.0</td>\n",
       "      <td>0.0</td>\n",
       "      <td>0.0</td>\n",
       "      <td>0.0</td>\n",
       "      <td>UNK</td>\n",
       "    </tr>\n",
       "    <tr>\n",
       "      <th>2</th>\n",
       "      <td>1974-08-30</td>\n",
       "      <td>Saltville, VA</td>\n",
       "      <td>United States</td>\n",
       "      <td>Fatal</td>\n",
       "      <td>Cessna</td>\n",
       "      <td>172M</td>\n",
       "      <td>1.0</td>\n",
       "      <td>Reciprocating</td>\n",
       "      <td>3.0</td>\n",
       "      <td>NaN</td>\n",
       "      <td>NaN</td>\n",
       "      <td>NaN</td>\n",
       "      <td>IMC</td>\n",
       "    </tr>\n",
       "    <tr>\n",
       "      <th>3</th>\n",
       "      <td>1977-06-19</td>\n",
       "      <td>EUREKA, CA</td>\n",
       "      <td>United States</td>\n",
       "      <td>Fatal</td>\n",
       "      <td>Rockwell</td>\n",
       "      <td>112</td>\n",
       "      <td>1.0</td>\n",
       "      <td>Reciprocating</td>\n",
       "      <td>2.0</td>\n",
       "      <td>0.0</td>\n",
       "      <td>0.0</td>\n",
       "      <td>0.0</td>\n",
       "      <td>IMC</td>\n",
       "    </tr>\n",
       "    <tr>\n",
       "      <th>4</th>\n",
       "      <td>1979-08-02</td>\n",
       "      <td>Canton, OH</td>\n",
       "      <td>United States</td>\n",
       "      <td>Fatal</td>\n",
       "      <td>Cessna</td>\n",
       "      <td>501</td>\n",
       "      <td>NaN</td>\n",
       "      <td>NaN</td>\n",
       "      <td>1.0</td>\n",
       "      <td>2.0</td>\n",
       "      <td>NaN</td>\n",
       "      <td>0.0</td>\n",
       "      <td>VMC</td>\n",
       "    </tr>\n",
       "  </tbody>\n",
       "</table>\n",
       "</div>"
      ],
      "text/plain": [
       "  Event_date         Location        Country Injury_severity      Make  \\\n",
       "0 1948-10-24  MOOSE CREEK, ID  United States           Fatal   Stinson   \n",
       "1 1962-07-19   BRIDGEPORT, CA  United States           Fatal     Piper   \n",
       "2 1974-08-30    Saltville, VA  United States           Fatal    Cessna   \n",
       "3 1977-06-19       EUREKA, CA  United States           Fatal  Rockwell   \n",
       "4 1979-08-02       Canton, OH  United States           Fatal    Cessna   \n",
       "\n",
       "      Model  Number_of_engines    Engine_type  Total_fatal_injuries  \\\n",
       "0     108-3                1.0  Reciprocating                   2.0   \n",
       "1  PA24-180                1.0  Reciprocating                   4.0   \n",
       "2      172M                1.0  Reciprocating                   3.0   \n",
       "3       112                1.0  Reciprocating                   2.0   \n",
       "4       501                NaN            NaN                   1.0   \n",
       "\n",
       "   Total_serious_injuries  Total_minor_injuries  Total_uninjured  \\\n",
       "0                     0.0                   0.0              0.0   \n",
       "1                     0.0                   0.0              0.0   \n",
       "2                     NaN                   NaN              NaN   \n",
       "3                     0.0                   0.0              0.0   \n",
       "4                     2.0                   NaN              0.0   \n",
       "\n",
       "  Weather_condition  \n",
       "0               UNK  \n",
       "1               UNK  \n",
       "2               IMC  \n",
       "3               IMC  \n",
       "4               VMC  "
      ]
     },
     "execution_count": 104,
     "metadata": {},
     "output_type": "execute_result"
    }
   ],
   "source": [
    "df_subset[\"Injury_severity\"]=df_subset[\"Injury_severity\"].str.split('(').str[0]\n",
    "df_subset.head()"
   ]
  },
  {
   "cell_type": "markdown",
   "id": "8f7b59e0-5362-4e28-9b3f-b2e14df905c2",
   "metadata": {},
   "source": [
    "We note that there are some unknown values in the several of the columns that are technically nans. We attempt to convert these to nans and check the amount of missing data in this column again. "
   ]
  },
  {
   "cell_type": "code",
   "execution_count": 105,
   "id": "0ba74259-5360-45d4-b548-1ca4b69ee94b",
   "metadata": {},
   "outputs": [
    {
     "name": "stderr",
     "output_type": "stream",
     "text": [
      "C:\\Users\\setar\\AppData\\Local\\Temp\\ipykernel_17232\\3862996511.py:2: FutureWarning: DataFrame.applymap has been deprecated. Use DataFrame.map instead.\n",
      "  df_subset=df_subset.applymap(lambda x: np.nan if x in str_to_nan else x)\n"
     ]
    },
    {
     "data": {
      "text/plain": [
       "Event_date                 1.614867\n",
       "Location                   1.673529\n",
       "Country                    1.868331\n",
       "Injury_severity            2.721698\n",
       "Make                       1.707841\n",
       "Model                      1.721123\n",
       "Number_of_engines          8.348829\n",
       "Engine_type               11.740160\n",
       "Total_fatal_injuries      14.233851\n",
       "Total_serious_injuries    15.461327\n",
       "Total_minor_injuries      14.822686\n",
       "Total_uninjured            8.158454\n",
       "Weather_condition          7.824191\n",
       "dtype: float64"
      ]
     },
     "execution_count": 105,
     "metadata": {},
     "output_type": "execute_result"
    }
   ],
   "source": [
    "str_to_nan = ['UNK','Unk','Unknown']\n",
    "df_subset=df_subset.applymap(lambda x: np.nan if x in str_to_nan else x)\n",
    "df_subset.isna().sum()/len(df)*100"
   ]
  },
  {
   "cell_type": "markdown",
   "id": "947039d1-5667-40b3-83e0-210bce0188e6",
   "metadata": {},
   "source": [
    "We note that the remaining data does not have much missing values (a maximum of 15% among columns). We choose to drop these rows to get clean data we can easily work with."
   ]
  },
  {
   "cell_type": "code",
   "execution_count": 106,
   "id": "64a00a1b-bd4f-47ef-ace7-a8356d25dd3c",
   "metadata": {},
   "outputs": [],
   "source": [
    "df_subset.dropna(axis=0,inplace=True)\n",
    "#df_subset.head()"
   ]
  },
  {
   "cell_type": "markdown",
   "id": "ced4f9a9-3ccf-42c3-b994-7f75e323d57e",
   "metadata": {},
   "source": [
    "Let's take a look at the length of this dataset compared to the original one to make sure we haven't ommitted a significant amount of data. "
   ]
  },
  {
   "cell_type": "code",
   "execution_count": 107,
   "id": "0699b04c-529b-4b29-bce5-f948b60eda9f",
   "metadata": {},
   "outputs": [
    {
     "name": "stdout",
     "output_type": "stream",
     "text": [
      "The percentage of retained data is: 71.34081551334839\n"
     ]
    }
   ],
   "source": [
    "print(\"The percentage of retained data is:\", len(df_subset)/len(df)*100)"
   ]
  },
  {
   "cell_type": "code",
   "execution_count": 108,
   "id": "99f95ada-f2be-4f0a-8696-0b843d9003e4",
   "metadata": {},
   "outputs": [
    {
     "data": {
      "text/plain": [
       "Event_date                0\n",
       "Location                  0\n",
       "Country                   0\n",
       "Injury_severity           0\n",
       "Make                      0\n",
       "Model                     0\n",
       "Number_of_engines         0\n",
       "Engine_type               0\n",
       "Total_fatal_injuries      0\n",
       "Total_serious_injuries    0\n",
       "Total_minor_injuries      0\n",
       "Total_uninjured           0\n",
       "Weather_condition         0\n",
       "dtype: int64"
      ]
     },
     "execution_count": 108,
     "metadata": {},
     "output_type": "execute_result"
    }
   ],
   "source": [
    "df_subset.isna().sum()"
   ]
  },
  {
   "cell_type": "markdown",
   "id": "64921716-879d-432a-bd32-23104b3aa374",
   "metadata": {},
   "source": [
    "Let's take a look at the Country column and see how much data we have on each country. "
   ]
  },
  {
   "cell_type": "code",
   "execution_count": 109,
   "id": "876624cc-87b5-43bb-8634-777a74c0c290",
   "metadata": {},
   "outputs": [
    {
     "name": "stdout",
     "output_type": "stream",
     "text": [
      "0.9899309595842061\n"
     ]
    }
   ],
   "source": [
    "df_subset['Country'].value_counts()\n",
    "print(df_subset['Country'].value_counts().max()/len(df_subset))"
   ]
  },
  {
   "cell_type": "markdown",
   "id": "62e6f62a-3d80-4b03-89ff-ffc58f8be2c3",
   "metadata": {},
   "source": [
    "Data from the US comprises 98% of the data. This is a huge portion. Data entries from other countries may not be enough for making a good decision. Therefore, we will drop any rows with data on countries other than the US. We will also change the Location column such that it only contains the abbreviation for the name of the state. "
   ]
  },
  {
   "cell_type": "code",
   "execution_count": 110,
   "id": "9ebe29a7-dab9-4519-94e1-744f566dddeb",
   "metadata": {},
   "outputs": [],
   "source": [
    "df_subset = df_subset[df_subset[\"Country\"]==\"United States\"]\n",
    "df_subset[\"Location\"]=df_subset[\"Location\"].str.split(',').str[1]\n",
    "#df_subset['Location'].value_counts()"
   ]
  },
  {
   "cell_type": "markdown",
   "id": "fd9bfa37-e88f-444e-8ff2-9a6d1e615f1a",
   "metadata": {},
   "source": [
    "We will assume that the sum of the \"Total_fatal_injuries\", \"Total_serious_injuries\", \"Total_minor_injuries\" and \"Total_uninjured\" gives the number of people unboard. We will add 3 columns to the dataframe that shows that percentage of injuries for the number of people onboard instead of just absolute numbers. "
   ]
  },
  {
   "cell_type": "code",
   "execution_count": 111,
   "id": "08b25886-b7e5-4848-8caf-c074c4c202f0",
   "metadata": {},
   "outputs": [],
   "source": [
    "df_subset[\"Total_onboard\"]=df_subset[\"Total_fatal_injuries\"]+df_subset[\"Total_serious_injuries\"]+df_subset[\"Total_minor_injuries\"]+df_subset[\"Total_uninjured\"]\n",
    "df_subset[\"Total_fatal_injuries_ratio\"]=df_subset[\"Total_fatal_injuries\"]/df_subset[\"Total_onboard\"]\n",
    "df_subset[\"Total_serious_injuries_ratio\"]=df_subset[\"Total_serious_injuries\"]/df_subset[\"Total_onboard\"]\n",
    "df_subset[\"Total_minor_injuries_ratio\"]=df_subset[\"Total_minor_injuries\"]/df_subset[\"Total_onboard\"]\n",
    "df_subset[\"Total_uninjured_ratio\"]=df_subset[\"Total_uninjured\"]/df_subset[\"Total_onboard\"]\n",
    "#df_subset.tail(200)"
   ]
  },
  {
   "cell_type": "code",
   "execution_count": 112,
   "id": "0fe7c7f6-88d4-43ea-832b-edfb25436377",
   "metadata": {},
   "outputs": [
    {
     "data": {
      "text/plain": [
       "0.9370435382252452"
      ]
     },
     "execution_count": 112,
     "metadata": {},
     "output_type": "execute_result"
    }
   ],
   "source": [
    "#df_subset[(df_subset.Total_serious_injuries >0) & (df_subset.Total_fatal_injuries >0)]\n",
    "bins = [0,5, 20, 150, df_subset[\"Total_onboard\"].max()]\n",
    "labels = ['Other','small aircraft', 'medium aircraft', 'large aircraft']\n",
    "\n",
    "df_subset['Aircraft_size'] = pd.cut(df_subset['Total_onboard'], bins=bins, labels=labels, right=False)\n",
    "#df_subset.head(50)\n",
    "df_subset.Aircraft_size.value_counts().max()/len(df_subset)\n",
    "#df[df[\"Purpose_of_flight\"]==\"Personal\"].Make.value_counts().sort_index()"
   ]
  },
  {
   "cell_type": "code",
   "execution_count": 113,
   "id": "256e24ed-6757-4a0b-bc67-6993f174d1f9",
   "metadata": {},
   "outputs": [
    {
     "data": {
      "text/plain": [
       "0.16087090333509982"
      ]
     },
     "execution_count": 113,
     "metadata": {},
     "output_type": "execute_result"
    }
   ],
   "source": [
    "pd.set_option('display.max_rows', None)\n",
    "#df[\"Air_carrier\"].unique()\n",
    "df_subset[\"Total_fatal_injuries_ratio\"].mean()\n",
    "# month may matter.\n",
    "# maybe we can make different categories based on total onboard for small, medium and large aircrafts\n",
    "# maybe fill aircraft category based on Make & Model.  \n",
    "# categorize based on injury severity to identify problematic make and models. "
   ]
  },
  {
   "cell_type": "code",
   "execution_count": 114,
   "id": "ad7c3e55-546f-4206-815c-c049c2b0876a",
   "metadata": {},
   "outputs": [
    {
     "data": {
      "text/plain": [
       "<Axes: ylabel='Frequency'>"
      ]
     },
     "execution_count": 114,
     "metadata": {},
     "output_type": "execute_result"
    },
    {
     "data": {
      "image/png": "[encoded data removed]",
      "text/plain": [
       "<Figure size 640x480 with 1 Axes>"
      ]
     },
     "metadata": {},
     "output_type": "display_data"
    }
   ],
   "source": [
    "# categorize the size of the airplane based on the number of people onboard. \n",
    "df_subset[df_subset[\"Total_onboard\"]>10]\n",
    "df_subset[df_subset[\"Total_onboard\"]>20][\"Total_onboard\"].plot(kind='hist',bins=20)"
   ]
  },
  {
   "cell_type": "code",
   "execution_count": 115,
   "id": "b62a7456-103d-412b-a494-f5a3210290f3",
   "metadata": {},
   "outputs": [],
   "source": [
    "#df.groupby(\"Make\").sum().Total_fatal_injuries.sort_values(ascending=False).plot(kind='bar')"
   ]
  },
  {
   "cell_type": "markdown",
   "id": "fec03983-7704-40fc-84a5-e020c3941163",
   "metadata": {},
   "source": [
    "## Explarotary Data Analysis (EDA)"
   ]
  },
  {
   "cell_type": "code",
   "execution_count": 116,
   "id": "0de1603d-8924-4c0d-bae6-bcd283470967",
   "metadata": {},
   "outputs": [
    {
     "data": {
      "text/plain": [
       "Country\n",
       "United States    63806\n",
       "Name: count, dtype: int64"
      ]
     },
     "execution_count": 116,
     "metadata": {},
     "output_type": "execute_result"
    }
   ],
   "source": [
    "df_subset['Location'].value_counts()\n",
    "df_subset['Country'].value_counts()"
   ]
  },
  {
   "cell_type": "code",
   "execution_count": 117,
   "id": "ea579257-063f-4f2d-8854-1bf1e05ec1d7",
   "metadata": {},
   "outputs": [
    {
     "data": {
      "text/plain": [
       "<Axes: xlabel='Location'>"
      ]
     },
     "execution_count": 117,
     "metadata": {},
     "output_type": "execute_result"
    },
    {
     "data": {
      "image/png": "[encoded data removed]",
      "text/plain": [
       "<Figure size 640x480 with 1 Axes>"
      ]
     },
     "metadata": {},
     "output_type": "display_data"
    }
   ],
   "source": [
    "df_subset[df_subset[\"Aircraft_size\"]==\"large aircraft\"].groupby('Location')['Total_fatal_injuries_ratio'].sum().sort_values(ascending=False).iloc[0:10].plot(kind=\"bar\")"
   ]
  },
  {
   "cell_type": "code",
   "execution_count": 125,
   "id": "ba0fb15c-9ffd-42aa-92c7-20809def1bdf",
   "metadata": {},
   "outputs": [
    {
     "data": {
      "text/plain": [
       "<Axes: xlabel='Engine_type'>"
      ]
     },
     "execution_count": 125,
     "metadata": {},
     "output_type": "execute_result"
    },
    {
     "data": {
      "image/png": "[encoded data removed]",
      "text/plain": [
       "<Figure size 640x480 with 1 Axes>"
      ]
     },
     "metadata": {},
     "output_type": "display_data"
    }
   ],
   "source": [
    "df_subset[(df_subset[\"Aircraft_size\"]==\"medium aircraft\") & (df_subset[\"Event_date\"].dt.year>2010)].groupby('Engine_type')['Total_fatal_injuries_ratio'].sum().sort_values(ascending=False).iloc[0:10].plot(kind='bar')\n"
   ]
  },
  {
   "cell_type": "code",
   "execution_count": 19,
   "id": "e07942d1-98ab-46cb-8727-a0c55b23aa3e",
   "metadata": {},
   "outputs": [
    {
     "data": {
      "text/plain": [
       "<Axes: xlabel='Event_date'>"
      ]
     },
     "execution_count": 19,
     "metadata": {},
     "output_type": "execute_result"
    },
    {
     "data": {
      "image/png": "[encoded data removed]",
      "text/plain": [
       "<Figure size 640x480 with 1 Axes>"
      ]
     },
     "metadata": {},
     "output_type": "display_data"
    }
   ],
   "source": [
    "grouped_data = df_subset.groupby(df_subset['Event_date'] // 5 * 5).sum()\n",
    "grouped_data[\"Total_fatal_injuries\"].plot(kind='bar')"
   ]
  },
  {
   "cell_type": "markdown",
   "id": "a32652ce-3c6f-45f8-8e63-1b47f3ed7154",
   "metadata": {},
   "source": [
    "### Conclusion"
   ]
  },
  {
   "cell_type": "code",
   "execution_count": null,
   "id": "c854ee0a-e7bc-4a79-9f30-f02a453e5202",
   "metadata": {},
   "outputs": [],
   "source": []
  },
  {
   "cell_type": "code",
   "execution_count": null,
   "id": "0cde3ed5-1827-40d0-8da8-16cfd4de377e",
   "metadata": {},
   "outputs": [],
   "source": []
  },
  {
   "cell_type": "markdown",
   "id": "27c1f12f-36cf-42f1-b548-839da12e5ea8",
   "metadata": {},
   "source": [
    "### Limitations"
   ]
  },
  {
   "cell_type": "code",
   "execution_count": null,
   "id": "065d98c3-22b8-4ea7-bfd5-f519f540435b",
   "metadata": {},
   "outputs": [],
   "source": []
  },
  {
   "cell_type": "code",
   "execution_count": null,
   "id": "373bc175-5ab7-4b15-a0ed-69a64249c995",
   "metadata": {},
   "outputs": [],
   "source": []
  },
  {
   "cell_type": "markdown",
   "id": "d6aa31e3-2b8b-42db-94db-e24e008f9541",
   "metadata": {},
   "source": [
    "## Recommendations"
   ]
  },
  {
   "cell_type": "code",
   "execution_count": null,
   "id": "0d188404-b919-4b2f-b2a1-48da7e1a57f2",
   "metadata": {},
   "outputs": [],
   "source": []
  },
  {
   "cell_type": "code",
   "execution_count": null,
   "id": "cc05d14a-12e9-43f9-b264-c0194d952bfe",
   "metadata": {},
   "outputs": [],
   "source": []
  },
  {
   "cell_type": "markdown",
   "id": "59571745-f3d0-4e56-96b1-8969f7991d3f",
   "metadata": {},
   "source": [
    "## Next Steps"
   ]
  },
  {
   "cell_type": "code",
   "execution_count": null,
   "id": "e27844d7-f8e4-41df-9ba5-746dde5fe1b2",
   "metadata": {},
   "outputs": [],
   "source": []
  },
  {
   "cell_type": "code",
   "execution_count": null,
   "id": "8a9135a5-5fb2-4b02-a97e-ba4f2fa3426a",
   "metadata": {},
   "outputs": [],
   "source": []
  }
 ],
 "metadata": {
  "kernelspec": {
   "display_name": "Python (my-learn-env)",
   "language": "python",
   "name": "my-learn-env"
  },
  "language_info": {
   "codemirror_mode": {
    "name": "ipython",
    "version": 3
   },
   "file_extension": ".py",
   "mimetype": "text/x-python",
   "name": "python",
   "nbconvert_exporter": "python",
   "pygments_lexer": "ipython3",
   "version": "3.9.18"
  }
 },
 "nbformat": 4,
 "nbformat_minor": 5
}
