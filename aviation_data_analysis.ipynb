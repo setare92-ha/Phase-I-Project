{
 "cells": [
  {
   "cell_type": "markdown",
   "id": "e7af6fc1-83e0-4809-ac7d-f1c312d142fa",
   "metadata": {},
   "source": [
    "# Aviation Crash Data Analysis "
   ]
  },
  {
   "cell_type": "markdown",
   "id": "fb296bd9-a5eb-45be-b479-be254b860232",
   "metadata": {},
   "source": [
    "<center><img src=\"./images/Header.png\" \n",
    "    Width=\"1000\">|"
   ]
  },
  {
   "cell_type": "markdown",
   "id": "c3ab1a74-4baa-4f73-94fb-88c222a37207",
   "metadata": {},
   "source": [
    "## 1. Business Understanding "
   ]
  },
  {
   "cell_type": "markdown",
   "id": "a1dba2b7-c4f7-4d70-8a12-ecf9bf7c0fc7",
   "metadata": {},
   "source": [
    "### 1.1. Business Objective\n",
    "This project analyzes the [aviation accident dataset](https://www.kaggle.com/datasets/khsamaha/aviation-accident-database-synopses) on Kaggle (Note that the actual data we're using is located [here](https://github.com/learn-co-curriculum/dsc-phase-1-project-v3/tree/master/data)). The findings will be used to make recommendations to stakeholders that may be looking to expand their business through purchasing and operating airplanes for commercial and private enterprises. \n",
    "\n",
    "### 1.2. Background Information\n",
    "Before proceeding any further, we do some research to gain some domain knowledge. Different measures could be considered for assessing the safety of aircrafts. For example, the *number of fatal crashes per every 100,000 flights* seems like a standard measure to consider. The *number of non-fatal incidents that led to injuries* or required the pilot to take extreme measures for landing the aircraft may be considered as a secondary measure [REF](https://assets.performance.gov/APG/files/2023/june/FY2023_June_DOT_Progress_Aviation_Safety.pdf).\n",
    "\n",
    "Some aspects of safety we can investigate are: \n",
    "- aircraft make and model: certain models may be more susciptible to incidents due to inherent manufacturing/design flaws.\n",
    "- number of engines: a 4-engine aircraft should be safer compared to a 2-engine one\n",
    "- engine type: some engine types may be more susciptible to failures than others.  \n",
    "- location: certain regions may have higher number of fatal aviation accidents. Factors like weather, terrain topography and the location being a hub for certain activities may contribute to these statistics. \n",
    "\n",
    "### 1.3. Data Mining Goals\n",
    "A successful mining of the data would determine potentail factors that affect the safety of aircrafts. The correlation of each factor to aircraft safety and the strength of such correlation will provide insights to identify the lowest-risk aircrafts that the client can start its business endeavor with. \n",
    "\n",
    "### 1.4. Project Plan\n",
    "We will first skim the data provided to get a preliminary understanding of what's available, whether it's clean and ready for use. Next, we will determine the useful data for our analysis. This portion of the data will be prepared, cleaned and organized. In the end, we will use insights from the data along with visualizations to make appropriate business recommendations. As a complementary part, limitations of the work along with potential future investigations will be highlighted.   "
   ]
  },
  {
   "cell_type": "markdown",
   "id": "9d66f7d9-433a-402d-80db-e7c51e34c4db",
   "metadata": {},
   "source": [
    "## 2. Data Understanding"
   ]
  },
  {
   "cell_type": "markdown",
   "id": "8df68108-b3a8-4489-9734-4930a7d175c6",
   "metadata": {},
   "source": [
    "In this section, we take a first look at the data to get a preliminary understanding of its type and what it contains. "
   ]
  },
  {
   "cell_type": "code",
   "execution_count": 36,
   "id": "16d25c5f-724b-4778-b2d4-fb79b84c308d",
   "metadata": {},
   "outputs": [],
   "source": [
    "# importing the required modules\n",
    "import pandas as pd\n",
    "import numpy as np\n",
    "import matplotlib.pyplot as plt\n",
    "%matplotlib inline"
   ]
  },
  {
   "cell_type": "markdown",
   "id": "70270781-e12b-4f85-92bb-5fef9c290388",
   "metadata": {},
   "source": [
    "### 2.1. Data Description\n",
    "We use the [aviation accident dataset](https://www.kaggle.com/datasets/khsamaha/aviation-accident-database-synopses) available on Kaggle."
   ]
  },
  {
   "cell_type": "code",
   "execution_count": 37,
   "id": "fbf55c9d-0e70-4dcd-a744-43ea4710bf39",
   "metadata": {},
   "outputs": [
    {
     "name": "stdout",
     "output_type": "stream",
     "text": [
      "<class 'pandas.core.frame.DataFrame'>\n",
      "RangeIndex: 90348 entries, 0 to 90347\n",
      "Data columns (total 31 columns):\n",
      " #   Column                  Non-Null Count  Dtype  \n",
      "---  ------                  --------------  -----  \n",
      " 0   Event.Id                88889 non-null  object \n",
      " 1   Investigation.Type      90348 non-null  object \n",
      " 2   Accident.Number         88889 non-null  object \n",
      " 3   Event.Date              88889 non-null  object \n",
      " 4   Location                88837 non-null  object \n",
      " 5   Country                 88663 non-null  object \n",
      " 6   Latitude                34382 non-null  object \n",
      " 7   Longitude               34373 non-null  object \n",
      " 8   Airport.Code            50132 non-null  object \n",
      " 9   Airport.Name            52704 non-null  object \n",
      " 10  Injury.Severity         87889 non-null  object \n",
      " 11  Aircraft.damage         85695 non-null  object \n",
      " 12  Aircraft.Category       32287 non-null  object \n",
      " 13  Registration.Number     87507 non-null  object \n",
      " 14  Make                    88826 non-null  object \n",
      " 15  Model                   88797 non-null  object \n",
      " 16  Amateur.Built           88787 non-null  object \n",
      " 17  Number.of.Engines       82805 non-null  float64\n",
      " 18  Engine.Type             81793 non-null  object \n",
      " 19  FAR.Description         32023 non-null  object \n",
      " 20  Schedule                12582 non-null  object \n",
      " 21  Purpose.of.flight       82697 non-null  object \n",
      " 22  Air.carrier             16648 non-null  object \n",
      " 23  Total.Fatal.Injuries    77488 non-null  float64\n",
      " 24  Total.Serious.Injuries  76379 non-null  float64\n",
      " 25  Total.Minor.Injuries    76956 non-null  float64\n",
      " 26  Total.Uninjured         82977 non-null  float64\n",
      " 27  Weather.Condition       84397 non-null  object \n",
      " 28  Broad.phase.of.flight   61724 non-null  object \n",
      " 29  Report.Status           82505 non-null  object \n",
      " 30  Publication.Date        73659 non-null  object \n",
      "dtypes: float64(5), object(26)\n",
      "memory usage: 21.4+ MB\n"
     ]
    }
   ],
   "source": [
    "# read the data \n",
    "df = pd.read_csv(\"./data/Aviation_Data.csv\",low_memory=False)\n",
    "# inspect the data\n",
    "df.info()"
   ]
  },
  {
   "cell_type": "code",
   "execution_count": 38,
   "id": "552d1a04-d81d-4654-9519-2b4e8d786bd6",
   "metadata": {},
   "outputs": [
    {
     "name": "stdout",
     "output_type": "stream",
     "text": [
      "The data has 90348 rows and 31 columns.\n"
     ]
    }
   ],
   "source": [
    "print(f\"The data has {len(df)} rows and {len(df.columns)} columns.\")"
   ]
  },
  {
   "cell_type": "markdown",
   "id": "b158e6bd-3526-4b6a-8f25-bb4abab33be9",
   "metadata": {},
   "source": [
    "Let's take a look at some statistics for the numerical data: "
   ]
  },
  {
   "cell_type": "code",
   "execution_count": 39,
   "id": "c01ce5f8-b7cc-41db-9a3b-a48d07aa8b67",
   "metadata": {},
   "outputs": [
    {
     "data": {
      "text/html": [
       "<div>\n",
       "<style scoped>\n",
       "    .dataframe tbody tr th:only-of-type {\n",
       "        vertical-align: middle;\n",
       "    }\n",
       "\n",
       "    .dataframe tbody tr th {\n",
       "        vertical-align: top;\n",
       "    }\n",
       "\n",
       "    .dataframe thead th {\n",
       "        text-align: right;\n",
       "    }\n",
       "</style>\n",
       "<table border=\"1\" class=\"dataframe\">\n",
       "  <thead>\n",
       "    <tr style=\"text-align: right;\">\n",
       "      <th></th>\n",
       "      <th>Number.of.Engines</th>\n",
       "      <th>Total.Fatal.Injuries</th>\n",
       "      <th>Total.Serious.Injuries</th>\n",
       "      <th>Total.Minor.Injuries</th>\n",
       "      <th>Total.Uninjured</th>\n",
       "    </tr>\n",
       "  </thead>\n",
       "  <tbody>\n",
       "    <tr>\n",
       "      <th>count</th>\n",
       "      <td>82805.000000</td>\n",
       "      <td>77488.000000</td>\n",
       "      <td>76379.000000</td>\n",
       "      <td>76956.000000</td>\n",
       "      <td>82977.000000</td>\n",
       "    </tr>\n",
       "    <tr>\n",
       "      <th>mean</th>\n",
       "      <td>1.146585</td>\n",
       "      <td>0.647855</td>\n",
       "      <td>0.279881</td>\n",
       "      <td>0.357061</td>\n",
       "      <td>5.325440</td>\n",
       "    </tr>\n",
       "    <tr>\n",
       "      <th>std</th>\n",
       "      <td>0.446510</td>\n",
       "      <td>5.485960</td>\n",
       "      <td>1.544084</td>\n",
       "      <td>2.235625</td>\n",
       "      <td>27.913634</td>\n",
       "    </tr>\n",
       "    <tr>\n",
       "      <th>min</th>\n",
       "      <td>0.000000</td>\n",
       "      <td>0.000000</td>\n",
       "      <td>0.000000</td>\n",
       "      <td>0.000000</td>\n",
       "      <td>0.000000</td>\n",
       "    </tr>\n",
       "    <tr>\n",
       "      <th>25%</th>\n",
       "      <td>1.000000</td>\n",
       "      <td>0.000000</td>\n",
       "      <td>0.000000</td>\n",
       "      <td>0.000000</td>\n",
       "      <td>0.000000</td>\n",
       "    </tr>\n",
       "    <tr>\n",
       "      <th>50%</th>\n",
       "      <td>1.000000</td>\n",
       "      <td>0.000000</td>\n",
       "      <td>0.000000</td>\n",
       "      <td>0.000000</td>\n",
       "      <td>1.000000</td>\n",
       "    </tr>\n",
       "    <tr>\n",
       "      <th>75%</th>\n",
       "      <td>1.000000</td>\n",
       "      <td>0.000000</td>\n",
       "      <td>0.000000</td>\n",
       "      <td>0.000000</td>\n",
       "      <td>2.000000</td>\n",
       "    </tr>\n",
       "    <tr>\n",
       "      <th>max</th>\n",
       "      <td>8.000000</td>\n",
       "      <td>349.000000</td>\n",
       "      <td>161.000000</td>\n",
       "      <td>380.000000</td>\n",
       "      <td>699.000000</td>\n",
       "    </tr>\n",
       "  </tbody>\n",
       "</table>\n",
       "</div>"
      ],
      "text/plain": [
       "       Number.of.Engines  Total.Fatal.Injuries  Total.Serious.Injuries  \\\n",
       "count       82805.000000          77488.000000            76379.000000   \n",
       "mean            1.146585              0.647855                0.279881   \n",
       "std             0.446510              5.485960                1.544084   \n",
       "min             0.000000              0.000000                0.000000   \n",
       "25%             1.000000              0.000000                0.000000   \n",
       "50%             1.000000              0.000000                0.000000   \n",
       "75%             1.000000              0.000000                0.000000   \n",
       "max             8.000000            349.000000              161.000000   \n",
       "\n",
       "       Total.Minor.Injuries  Total.Uninjured  \n",
       "count          76956.000000     82977.000000  \n",
       "mean               0.357061         5.325440  \n",
       "std                2.235625        27.913634  \n",
       "min                0.000000         0.000000  \n",
       "25%                0.000000         0.000000  \n",
       "50%                0.000000         1.000000  \n",
       "75%                0.000000         2.000000  \n",
       "max              380.000000       699.000000  "
      ]
     },
     "execution_count": 39,
     "metadata": {},
     "output_type": "execute_result"
    }
   ],
   "source": [
    "df.describe()"
   ]
  },
  {
   "cell_type": "markdown",
   "id": "5c35c0be-00a2-4fed-839d-7e2c01729853",
   "metadata": {},
   "source": [
    "We note that the median for three of the columns is zero. This suggests that more than half the data contains zero for these columns. We also note that the means are close to 0. This statistics seem to suggest that the data may be skewed towards smaller aircrafts compared to medium and large ones. In the data preparation section, we will try to address this issue. "
   ]
  },
  {
   "cell_type": "markdown",
   "id": "82e74bc8-e42f-4565-9f0d-cc3267f59875",
   "metadata": {},
   "source": [
    "### 2.2. Improving Aesthetics/Readability"
   ]
  },
  {
   "cell_type": "code",
   "execution_count": 40,
   "id": "c76f2c3e-a872-4c0a-888b-1ef3ef82b414",
   "metadata": {},
   "outputs": [],
   "source": [
    "# replace . with _ in columns names to increase readability/facilitate use of column names \n",
    "df.rename(columns=lambda x: x.replace('.','_'),inplace=True)\n",
    "# standardize the capitalization of column names\n",
    "df.columns = [column.capitalize() for column in df.columns]\n",
    "df.rename(columns={\"Far_description\": \"FAR_description\"},inplace=True)"
   ]
  },
  {
   "cell_type": "code",
   "execution_count": 41,
   "id": "5960482e-48c9-4b2c-b13e-cd39d72b4b77",
   "metadata": {},
   "outputs": [
    {
     "data": {
      "text/html": [
       "<div>\n",
       "<style scoped>\n",
       "    .dataframe tbody tr th:only-of-type {\n",
       "        vertical-align: middle;\n",
       "    }\n",
       "\n",
       "    .dataframe tbody tr th {\n",
       "        vertical-align: top;\n",
       "    }\n",
       "\n",
       "    .dataframe thead th {\n",
       "        text-align: right;\n",
       "    }\n",
       "</style>\n",
       "<table border=\"1\" class=\"dataframe\">\n",
       "  <thead>\n",
       "    <tr style=\"text-align: right;\">\n",
       "      <th></th>\n",
       "      <th>Event_id</th>\n",
       "      <th>Investigation_type</th>\n",
       "      <th>Accident_number</th>\n",
       "      <th>Event_date</th>\n",
       "      <th>Location</th>\n",
       "      <th>Country</th>\n",
       "      <th>Latitude</th>\n",
       "      <th>Longitude</th>\n",
       "      <th>Airport_code</th>\n",
       "      <th>Airport_name</th>\n",
       "      <th>Injury_severity</th>\n",
       "      <th>Aircraft_damage</th>\n",
       "      <th>Aircraft_category</th>\n",
       "      <th>Registration_number</th>\n",
       "      <th>Make</th>\n",
       "      <th>Model</th>\n",
       "      <th>Amateur_built</th>\n",
       "      <th>Number_of_engines</th>\n",
       "      <th>Engine_type</th>\n",
       "      <th>FAR_description</th>\n",
       "      <th>Schedule</th>\n",
       "      <th>Purpose_of_flight</th>\n",
       "      <th>Air_carrier</th>\n",
       "      <th>Total_fatal_injuries</th>\n",
       "      <th>Total_serious_injuries</th>\n",
       "      <th>Total_minor_injuries</th>\n",
       "      <th>Total_uninjured</th>\n",
       "      <th>Weather_condition</th>\n",
       "      <th>Broad_phase_of_flight</th>\n",
       "      <th>Report_status</th>\n",
       "      <th>Publication_date</th>\n",
       "    </tr>\n",
       "  </thead>\n",
       "  <tbody>\n",
       "    <tr>\n",
       "      <th>0</th>\n",
       "      <td>20001218X45444</td>\n",
       "      <td>Accident</td>\n",
       "      <td>SEA87LA080</td>\n",
       "      <td>1948-10-24</td>\n",
       "      <td>MOOSE CREEK, ID</td>\n",
       "      <td>United States</td>\n",
       "      <td>NaN</td>\n",
       "      <td>NaN</td>\n",
       "      <td>NaN</td>\n",
       "      <td>NaN</td>\n",
       "      <td>Fatal(2)</td>\n",
       "      <td>Destroyed</td>\n",
       "      <td>NaN</td>\n",
       "      <td>NC6404</td>\n",
       "      <td>Stinson</td>\n",
       "      <td>108-3</td>\n",
       "      <td>No</td>\n",
       "      <td>1.0</td>\n",
       "      <td>Reciprocating</td>\n",
       "      <td>NaN</td>\n",
       "      <td>NaN</td>\n",
       "      <td>Personal</td>\n",
       "      <td>NaN</td>\n",
       "      <td>2.0</td>\n",
       "      <td>0.0</td>\n",
       "      <td>0.0</td>\n",
       "      <td>0.0</td>\n",
       "      <td>UNK</td>\n",
       "      <td>Cruise</td>\n",
       "      <td>Probable Cause</td>\n",
       "      <td>NaN</td>\n",
       "    </tr>\n",
       "    <tr>\n",
       "      <th>1</th>\n",
       "      <td>20001218X45447</td>\n",
       "      <td>Accident</td>\n",
       "      <td>LAX94LA336</td>\n",
       "      <td>1962-07-19</td>\n",
       "      <td>BRIDGEPORT, CA</td>\n",
       "      <td>United States</td>\n",
       "      <td>NaN</td>\n",
       "      <td>NaN</td>\n",
       "      <td>NaN</td>\n",
       "      <td>NaN</td>\n",
       "      <td>Fatal(4)</td>\n",
       "      <td>Destroyed</td>\n",
       "      <td>NaN</td>\n",
       "      <td>N5069P</td>\n",
       "      <td>Piper</td>\n",
       "      <td>PA24-180</td>\n",
       "      <td>No</td>\n",
       "      <td>1.0</td>\n",
       "      <td>Reciprocating</td>\n",
       "      <td>NaN</td>\n",
       "      <td>NaN</td>\n",
       "      <td>Personal</td>\n",
       "      <td>NaN</td>\n",
       "      <td>4.0</td>\n",
       "      <td>0.0</td>\n",
       "      <td>0.0</td>\n",
       "      <td>0.0</td>\n",
       "      <td>UNK</td>\n",
       "      <td>Unknown</td>\n",
       "      <td>Probable Cause</td>\n",
       "      <td>19-09-1996</td>\n",
       "    </tr>\n",
       "    <tr>\n",
       "      <th>2</th>\n",
       "      <td>20061025X01555</td>\n",
       "      <td>Accident</td>\n",
       "      <td>NYC07LA005</td>\n",
       "      <td>1974-08-30</td>\n",
       "      <td>Saltville, VA</td>\n",
       "      <td>United States</td>\n",
       "      <td>36.922223</td>\n",
       "      <td>-81.878056</td>\n",
       "      <td>NaN</td>\n",
       "      <td>NaN</td>\n",
       "      <td>Fatal(3)</td>\n",
       "      <td>Destroyed</td>\n",
       "      <td>NaN</td>\n",
       "      <td>N5142R</td>\n",
       "      <td>Cessna</td>\n",
       "      <td>172M</td>\n",
       "      <td>No</td>\n",
       "      <td>1.0</td>\n",
       "      <td>Reciprocating</td>\n",
       "      <td>NaN</td>\n",
       "      <td>NaN</td>\n",
       "      <td>Personal</td>\n",
       "      <td>NaN</td>\n",
       "      <td>3.0</td>\n",
       "      <td>NaN</td>\n",
       "      <td>NaN</td>\n",
       "      <td>NaN</td>\n",
       "      <td>IMC</td>\n",
       "      <td>Cruise</td>\n",
       "      <td>Probable Cause</td>\n",
       "      <td>26-02-2007</td>\n",
       "    </tr>\n",
       "    <tr>\n",
       "      <th>3</th>\n",
       "      <td>20001218X45448</td>\n",
       "      <td>Accident</td>\n",
       "      <td>LAX96LA321</td>\n",
       "      <td>1977-06-19</td>\n",
       "      <td>EUREKA, CA</td>\n",
       "      <td>United States</td>\n",
       "      <td>NaN</td>\n",
       "      <td>NaN</td>\n",
       "      <td>NaN</td>\n",
       "      <td>NaN</td>\n",
       "      <td>Fatal(2)</td>\n",
       "      <td>Destroyed</td>\n",
       "      <td>NaN</td>\n",
       "      <td>N1168J</td>\n",
       "      <td>Rockwell</td>\n",
       "      <td>112</td>\n",
       "      <td>No</td>\n",
       "      <td>1.0</td>\n",
       "      <td>Reciprocating</td>\n",
       "      <td>NaN</td>\n",
       "      <td>NaN</td>\n",
       "      <td>Personal</td>\n",
       "      <td>NaN</td>\n",
       "      <td>2.0</td>\n",
       "      <td>0.0</td>\n",
       "      <td>0.0</td>\n",
       "      <td>0.0</td>\n",
       "      <td>IMC</td>\n",
       "      <td>Cruise</td>\n",
       "      <td>Probable Cause</td>\n",
       "      <td>12-09-2000</td>\n",
       "    </tr>\n",
       "    <tr>\n",
       "      <th>4</th>\n",
       "      <td>20041105X01764</td>\n",
       "      <td>Accident</td>\n",
       "      <td>CHI79FA064</td>\n",
       "      <td>1979-08-02</td>\n",
       "      <td>Canton, OH</td>\n",
       "      <td>United States</td>\n",
       "      <td>NaN</td>\n",
       "      <td>NaN</td>\n",
       "      <td>NaN</td>\n",
       "      <td>NaN</td>\n",
       "      <td>Fatal(1)</td>\n",
       "      <td>Destroyed</td>\n",
       "      <td>NaN</td>\n",
       "      <td>N15NY</td>\n",
       "      <td>Cessna</td>\n",
       "      <td>501</td>\n",
       "      <td>No</td>\n",
       "      <td>NaN</td>\n",
       "      <td>NaN</td>\n",
       "      <td>NaN</td>\n",
       "      <td>NaN</td>\n",
       "      <td>Personal</td>\n",
       "      <td>NaN</td>\n",
       "      <td>1.0</td>\n",
       "      <td>2.0</td>\n",
       "      <td>NaN</td>\n",
       "      <td>0.0</td>\n",
       "      <td>VMC</td>\n",
       "      <td>Approach</td>\n",
       "      <td>Probable Cause</td>\n",
       "      <td>16-04-1980</td>\n",
       "    </tr>\n",
       "  </tbody>\n",
       "</table>\n",
       "</div>"
      ],
      "text/plain": [
       "         Event_id Investigation_type Accident_number  Event_date  \\\n",
       "0  20001218X45444           Accident      SEA87LA080  1948-10-24   \n",
       "1  20001218X45447           Accident      LAX94LA336  1962-07-19   \n",
       "2  20061025X01555           Accident      NYC07LA005  1974-08-30   \n",
       "3  20001218X45448           Accident      LAX96LA321  1977-06-19   \n",
       "4  20041105X01764           Accident      CHI79FA064  1979-08-02   \n",
       "\n",
       "          Location        Country   Latitude   Longitude Airport_code  \\\n",
       "0  MOOSE CREEK, ID  United States        NaN         NaN          NaN   \n",
       "1   BRIDGEPORT, CA  United States        NaN         NaN          NaN   \n",
       "2    Saltville, VA  United States  36.922223  -81.878056          NaN   \n",
       "3       EUREKA, CA  United States        NaN         NaN          NaN   \n",
       "4       Canton, OH  United States        NaN         NaN          NaN   \n",
       "\n",
       "  Airport_name Injury_severity Aircraft_damage Aircraft_category  \\\n",
       "0          NaN        Fatal(2)       Destroyed               NaN   \n",
       "1          NaN        Fatal(4)       Destroyed               NaN   \n",
       "2          NaN        Fatal(3)       Destroyed               NaN   \n",
       "3          NaN        Fatal(2)       Destroyed               NaN   \n",
       "4          NaN        Fatal(1)       Destroyed               NaN   \n",
       "\n",
       "  Registration_number      Make     Model Amateur_built  Number_of_engines  \\\n",
       "0              NC6404   Stinson     108-3            No                1.0   \n",
       "1              N5069P     Piper  PA24-180            No                1.0   \n",
       "2              N5142R    Cessna      172M            No                1.0   \n",
       "3              N1168J  Rockwell       112            No                1.0   \n",
       "4               N15NY    Cessna       501            No                NaN   \n",
       "\n",
       "     Engine_type FAR_description Schedule Purpose_of_flight Air_carrier  \\\n",
       "0  Reciprocating             NaN      NaN          Personal         NaN   \n",
       "1  Reciprocating             NaN      NaN          Personal         NaN   \n",
       "2  Reciprocating             NaN      NaN          Personal         NaN   \n",
       "3  Reciprocating             NaN      NaN          Personal         NaN   \n",
       "4            NaN             NaN      NaN          Personal         NaN   \n",
       "\n",
       "   Total_fatal_injuries  Total_serious_injuries  Total_minor_injuries  \\\n",
       "0                   2.0                     0.0                   0.0   \n",
       "1                   4.0                     0.0                   0.0   \n",
       "2                   3.0                     NaN                   NaN   \n",
       "3                   2.0                     0.0                   0.0   \n",
       "4                   1.0                     2.0                   NaN   \n",
       "\n",
       "   Total_uninjured Weather_condition Broad_phase_of_flight   Report_status  \\\n",
       "0              0.0               UNK                Cruise  Probable Cause   \n",
       "1              0.0               UNK               Unknown  Probable Cause   \n",
       "2              NaN               IMC                Cruise  Probable Cause   \n",
       "3              0.0               IMC                Cruise  Probable Cause   \n",
       "4              0.0               VMC              Approach  Probable Cause   \n",
       "\n",
       "  Publication_date  \n",
       "0              NaN  \n",
       "1       19-09-1996  \n",
       "2       26-02-2007  \n",
       "3       12-09-2000  \n",
       "4       16-04-1980  "
      ]
     },
     "execution_count": 41,
     "metadata": {},
     "output_type": "execute_result"
    }
   ],
   "source": [
    "# taking a peak at a few rows of the data\n",
    "pd.set_option('display.max_columns', None)\n",
    "df.head(5)"
   ]
  },
  {
   "cell_type": "markdown",
   "id": "9b25023f-c2f2-42ef-984a-b831fee58c4c",
   "metadata": {},
   "source": [
    "### 2.3. Improve Understanding of the Data"
   ]
  },
  {
   "cell_type": "code",
   "execution_count": 42,
   "id": "dd21b5ca-d690-48b7-a07c-364cc32ffeda",
   "metadata": {},
   "outputs": [
    {
     "name": "stdout",
     "output_type": "stream",
     "text": [
      "Categorical data for Broad phase of flight:\n",
      "['Cruise' 'Unknown' 'Approach' 'Climb' 'Takeoff' 'Landing' 'Taxi'\n",
      " 'Descent' 'Maneuvering' 'Standing' 'Go-around' 'Other' nan] \n",
      "\n",
      "Categorical data for FAR description:\n",
      "[nan 'Part 129: Foreign' 'Part 91: General Aviation'\n",
      " 'Part 135: Air Taxi & Commuter' 'Part 125: 20+ Pax,6000+ lbs'\n",
      " 'Part 121: Air Carrier' 'Part 137: Agricultural'\n",
      " 'Part 133: Rotorcraft Ext. Load' 'Unknown' 'Part 91F: Special Flt Ops.'\n",
      " 'Non-U.S., Non-Commercial' 'Public Aircraft' 'Non-U.S., Commercial'\n",
      " 'Public Use' 'Armed Forces' 'Part 91 Subpart K: Fractional' '091' 'NUSC'\n",
      " '135' 'NUSN' '121' '137' '129' '133' '091K' 'UNK' 'PUBU' 'ARMF' '103'\n",
      " '125' '437' '107'] \n",
      "\n",
      "Categorical data for Engine type:\n",
      "['Reciprocating' nan 'Turbo Fan' 'Turbo Shaft' 'Unknown' 'Turbo Prop'\n",
      " 'Turbo Jet' 'Electric' 'Hybrid Rocket' 'Geared Turbofan' 'LR' 'NONE'\n",
      " 'UNK']\n"
     ]
    }
   ],
   "source": [
    "# Take a look at some of the categorical data you don't fully understand\n",
    "print('Categorical data for Broad phase of flight:')\n",
    "print(df[\"Broad_phase_of_flight\"].unique(),'\\n')\n",
    "\n",
    "print('Categorical data for FAR description:')\n",
    "print(df[\"FAR_description\"].unique(),'\\n')\n",
    "\n",
    "print('Categorical data for Engine type:')\n",
    "print(df[\"Engine_type\"].unique())"
   ]
  },
  {
   "cell_type": "markdown",
   "id": "fd71e728-4440-4554-8456-2773e1a4cfc4",
   "metadata": {},
   "source": [
    "**Important Notes:**\n",
    "- The data has 31 columns. There are two data types: object (string/text) and float. We note that the float data type seems appropriate for the columns listed (i.e., number of engines, total fatal/serious/minor injuries, and total uninjured). An int type may be more appropriate for these categories but changing the data type might introduce unwanted issues when performing statistical analysis so we will keep it as is for now. \n",
    "- Notice that some columns have substantial amount of missing data. We will address this in more detail in the next sections (Data Preparation and EDA).\n",
    "- I took some time to make sure I understand what each column represents and brainstorm whether it can be leveraged for the type of analysis we're doing. Below, I will include explanation on a number of items that were not clear to me:\n",
    "    - **Investigation type:** incident vs. accident. Incidents refer to occurrences that do not result in signifcant damage to the aircraft.\n",
    "    - **Weather condition:** IMC (Instrument Meteorological Conditions) and VMC (Visual Meteorological Conditions). The former is associated with reduced visibility while the latter usually corresponds to clear skies. \n",
    "    - **FAR description:** Represents descriptions or codes that specify which specific Federal Aviation Regulations are relevant to each accident. Recurrent FAR violations in certain categories (such as maintenance) can be raise red flags for aviation companies.\n",
    "    - **Engine type:** includes reciprocating, turbo jet, etc. Engine type has been documented to have an effect with aircraft safety [REF](https://dk.upce.cz/bitstream/handle/10195/74791/Use_of_Aircraft_Engine_Type_and_Quantity_and_their_Impact_on_Air_Transport_Safety.pdf?sequence=1&isAllowed=y).\n",
    "    - **Broad phase of flight:** indicates the phase of flight at which the accident or incident happened. Includes categorical data such as \"Cruise\", \"Taxi\", etc. This may be useful for identifying risks associated with each phase of flight, but may not be necessarily relevant to our analysis.\n",
    "    - **Report status:** This item shows whether the report on the accident is at its final stage or it's developing."
   ]
  },
  {
   "cell_type": "markdown",
   "id": "741090ab-c4ec-4c4f-9f67-253ae9934a9d",
   "metadata": {},
   "source": [
    "### 2.4. Summary: \n",
    "1. The data has **90348** rows and **31** columns.\n",
    "2. The categorical and numerical data included are relevant to answer the question we're after.\n",
    "3. The preliminary look at the data shows that some of the important columns have several NaNs and missing data. This may limit our analysis and findings.\n",
    "4. We note that the median for three of the columns containing numerical data is zero. This suggests that more than half the data contains zero for these columns. We also note that the means are close to 0. This statistics seem to suggest that the data may be skewed towards smaller aircrafts compared to medium and large ones. In the data preparation section, we will try to address this issue.\n",
    "5. Based on what was discussed above, the following features will be of interest for our analysis: event date, investigation type, location, country, injury severity, aircraft damage, aircraft category, make, model, number of engines, engine type, FAR description, air carrier, total injuries and total fatal/serious/minor injuries, total uninjured, and weather condition."
   ]
  },
  {
   "cell_type": "markdown",
   "id": "233c62de-785c-4af3-b694-7458a01060e8",
   "metadata": {},
   "source": [
    "## 3. Data Preparation"
   ]
  },
  {
   "cell_type": "markdown",
   "id": "e8d919de-210b-43bb-af40-2eb58bee89f4",
   "metadata": {},
   "source": [
    "### 3.1. Converting Data Types\n",
    "We start by changing the data type for the event date. The event date is of importance since trends and patterns in aviation accidents may be time-dependent (e.g. a company with high number of accidents in the past may have become a reliable aviation company later on). "
   ]
  },
  {
   "cell_type": "code",
   "execution_count": 43,
   "id": "c26fd774-324b-4223-80af-c599c09dae87",
   "metadata": {},
   "outputs": [],
   "source": [
    "df.Event_date = pd.to_datetime(df.Event_date)"
   ]
  },
  {
   "cell_type": "markdown",
   "id": "e154baba-4617-4ae7-800d-f4302bff1ebe",
   "metadata": {},
   "source": [
    "### 3.2. Handling Missing Values"
   ]
  },
  {
   "cell_type": "code",
   "execution_count": 44,
   "id": "5afb8b30-1db3-45be-bb40-abb6356c53ca",
   "metadata": {},
   "outputs": [
    {
     "data": {
      "text/plain": [
       "Event_id                   1.614867\n",
       "Investigation_type         0.000000\n",
       "Accident_number            1.614867\n",
       "Event_date                 1.614867\n",
       "Location                   1.672422\n",
       "Country                    1.865011\n",
       "Latitude                  61.944924\n",
       "Longitude                 61.954886\n",
       "Airport_code              44.512330\n",
       "Airport_name              41.665560\n",
       "Injury_severity            2.721698\n",
       "Aircraft_damage            5.150086\n",
       "Aircraft_category         64.263736\n",
       "Registration_number        3.144508\n",
       "Make                       1.684597\n",
       "Model                      1.716695\n",
       "Amateur_built              1.727764\n",
       "Number_of_engines          8.348829\n",
       "Engine_type                9.468942\n",
       "FAR_description           64.555939\n",
       "Schedule                  86.073848\n",
       "Purpose_of_flight          8.468367\n",
       "Air_carrier               81.573471\n",
       "Total_fatal_injuries      14.233851\n",
       "Total_serious_injuries    15.461327\n",
       "Total_minor_injuries      14.822686\n",
       "Total_uninjured            8.158454\n",
       "Weather_condition          6.586753\n",
       "Broad_phase_of_flight     31.681941\n",
       "Report_status              8.680878\n",
       "Publication_date          18.471909\n",
       "dtype: float64"
      ]
     },
     "execution_count": 44,
     "metadata": {},
     "output_type": "execute_result"
    }
   ],
   "source": [
    "# check for the percentage of missing data in each category\n",
    "df.isna().sum()/len(df)*100"
   ]
  },
  {
   "cell_type": "markdown",
   "id": "05744e5e-c522-4508-81b0-f8c62e4479ca",
   "metadata": {},
   "source": [
    "We can see that several categories have a lot of missing data (over 50%). Among the data we said we care about in the previous section, \"FAR_description\", \"Aircraft_category\" and \"Air_carrier\" are also part of the categories with a high percentage of missing data. We need to make a decision about how we will handle the missing portion of the data. We can either drop the rows and/or columns or replace the missing data with the most frequent category. Dropping the rows or replacing them is not a good option since we would be throwing away a lot of data. The best option is to drop all columns that have more missing data than a certain threshold value. We assume this **threshold value** to be **30%**. Dropping \"Aircraft_category\" and \"Air_carrier\" may seem like a bad idea but we have the \"Make\" and \"Model\" columns to rely on. "
   ]
  },
  {
   "cell_type": "code",
   "execution_count": 45,
   "id": "182bfdef-0690-4684-8529-966ccc95040e",
   "metadata": {},
   "outputs": [],
   "source": [
    "# drop columns with more than 30% of missing rows. \n",
    "df.dropna(axis=1,thresh=np.round(0.7*len(df)),inplace=True)"
   ]
  },
  {
   "cell_type": "markdown",
   "id": "f121b416-13ac-4662-8c36-a2054f1d7cdb",
   "metadata": {},
   "source": [
    "We also notice that some of the columns contain data that's not required for our analysis. We will drop those columns and only keep the ones we need: Event_date, Location, Country, Injury_severity, Make, Model, Number_of_engines, Engine_type, Total_fatal_injuries, Total_serious_injuries, Total_minor_injuries, Total_uninjured, Weather_condition."
   ]
  },
  {
   "cell_type": "code",
   "execution_count": 46,
   "id": "a8b494a6-d282-4062-a1ad-9d58b9f06757",
   "metadata": {},
   "outputs": [
    {
     "data": {
      "text/html": [
       "<div>\n",
       "<style scoped>\n",
       "    .dataframe tbody tr th:only-of-type {\n",
       "        vertical-align: middle;\n",
       "    }\n",
       "\n",
       "    .dataframe tbody tr th {\n",
       "        vertical-align: top;\n",
       "    }\n",
       "\n",
       "    .dataframe thead th {\n",
       "        text-align: right;\n",
       "    }\n",
       "</style>\n",
       "<table border=\"1\" class=\"dataframe\">\n",
       "  <thead>\n",
       "    <tr style=\"text-align: right;\">\n",
       "      <th></th>\n",
       "      <th>Event_date</th>\n",
       "      <th>Location</th>\n",
       "      <th>Country</th>\n",
       "      <th>Injury_severity</th>\n",
       "      <th>Make</th>\n",
       "      <th>Model</th>\n",
       "      <th>Number_of_engines</th>\n",
       "      <th>Engine_type</th>\n",
       "      <th>Total_fatal_injuries</th>\n",
       "      <th>Total_serious_injuries</th>\n",
       "      <th>Total_minor_injuries</th>\n",
       "      <th>Total_uninjured</th>\n",
       "      <th>Weather_condition</th>\n",
       "      <th>Purpose_of_flight</th>\n",
       "    </tr>\n",
       "  </thead>\n",
       "  <tbody>\n",
       "    <tr>\n",
       "      <th>0</th>\n",
       "      <td>1948-10-24</td>\n",
       "      <td>MOOSE CREEK, ID</td>\n",
       "      <td>United States</td>\n",
       "      <td>Fatal(2)</td>\n",
       "      <td>Stinson</td>\n",
       "      <td>108-3</td>\n",
       "      <td>1.0</td>\n",
       "      <td>Reciprocating</td>\n",
       "      <td>2.0</td>\n",
       "      <td>0.0</td>\n",
       "      <td>0.0</td>\n",
       "      <td>0.0</td>\n",
       "      <td>UNK</td>\n",
       "      <td>Personal</td>\n",
       "    </tr>\n",
       "    <tr>\n",
       "      <th>1</th>\n",
       "      <td>1962-07-19</td>\n",
       "      <td>BRIDGEPORT, CA</td>\n",
       "      <td>United States</td>\n",
       "      <td>Fatal(4)</td>\n",
       "      <td>Piper</td>\n",
       "      <td>PA24-180</td>\n",
       "      <td>1.0</td>\n",
       "      <td>Reciprocating</td>\n",
       "      <td>4.0</td>\n",
       "      <td>0.0</td>\n",
       "      <td>0.0</td>\n",
       "      <td>0.0</td>\n",
       "      <td>UNK</td>\n",
       "      <td>Personal</td>\n",
       "    </tr>\n",
       "    <tr>\n",
       "      <th>2</th>\n",
       "      <td>1974-08-30</td>\n",
       "      <td>Saltville, VA</td>\n",
       "      <td>United States</td>\n",
       "      <td>Fatal(3)</td>\n",
       "      <td>Cessna</td>\n",
       "      <td>172M</td>\n",
       "      <td>1.0</td>\n",
       "      <td>Reciprocating</td>\n",
       "      <td>3.0</td>\n",
       "      <td>NaN</td>\n",
       "      <td>NaN</td>\n",
       "      <td>NaN</td>\n",
       "      <td>IMC</td>\n",
       "      <td>Personal</td>\n",
       "    </tr>\n",
       "    <tr>\n",
       "      <th>3</th>\n",
       "      <td>1977-06-19</td>\n",
       "      <td>EUREKA, CA</td>\n",
       "      <td>United States</td>\n",
       "      <td>Fatal(2)</td>\n",
       "      <td>Rockwell</td>\n",
       "      <td>112</td>\n",
       "      <td>1.0</td>\n",
       "      <td>Reciprocating</td>\n",
       "      <td>2.0</td>\n",
       "      <td>0.0</td>\n",
       "      <td>0.0</td>\n",
       "      <td>0.0</td>\n",
       "      <td>IMC</td>\n",
       "      <td>Personal</td>\n",
       "    </tr>\n",
       "    <tr>\n",
       "      <th>4</th>\n",
       "      <td>1979-08-02</td>\n",
       "      <td>Canton, OH</td>\n",
       "      <td>United States</td>\n",
       "      <td>Fatal(1)</td>\n",
       "      <td>Cessna</td>\n",
       "      <td>501</td>\n",
       "      <td>NaN</td>\n",
       "      <td>NaN</td>\n",
       "      <td>1.0</td>\n",
       "      <td>2.0</td>\n",
       "      <td>NaN</td>\n",
       "      <td>0.0</td>\n",
       "      <td>VMC</td>\n",
       "      <td>Personal</td>\n",
       "    </tr>\n",
       "  </tbody>\n",
       "</table>\n",
       "</div>"
      ],
      "text/plain": [
       "  Event_date         Location        Country Injury_severity      Make  \\\n",
       "0 1948-10-24  MOOSE CREEK, ID  United States        Fatal(2)   Stinson   \n",
       "1 1962-07-19   BRIDGEPORT, CA  United States        Fatal(4)     Piper   \n",
       "2 1974-08-30    Saltville, VA  United States        Fatal(3)    Cessna   \n",
       "3 1977-06-19       EUREKA, CA  United States        Fatal(2)  Rockwell   \n",
       "4 1979-08-02       Canton, OH  United States        Fatal(1)    Cessna   \n",
       "\n",
       "      Model  Number_of_engines    Engine_type  Total_fatal_injuries  \\\n",
       "0     108-3                1.0  Reciprocating                   2.0   \n",
       "1  PA24-180                1.0  Reciprocating                   4.0   \n",
       "2      172M                1.0  Reciprocating                   3.0   \n",
       "3       112                1.0  Reciprocating                   2.0   \n",
       "4       501                NaN            NaN                   1.0   \n",
       "\n",
       "   Total_serious_injuries  Total_minor_injuries  Total_uninjured  \\\n",
       "0                     0.0                   0.0              0.0   \n",
       "1                     0.0                   0.0              0.0   \n",
       "2                     NaN                   NaN              NaN   \n",
       "3                     0.0                   0.0              0.0   \n",
       "4                     2.0                   NaN              0.0   \n",
       "\n",
       "  Weather_condition Purpose_of_flight  \n",
       "0               UNK          Personal  \n",
       "1               UNK          Personal  \n",
       "2               IMC          Personal  \n",
       "3               IMC          Personal  \n",
       "4               VMC          Personal  "
      ]
     },
     "execution_count": 46,
     "metadata": {},
     "output_type": "execute_result"
    }
   ],
   "source": [
    "cols_to_keep = [\"Event_date\", \"Location\", \"Country\", \"Injury_severity\", \"Make\", \"Model\", \"Number_of_engines\", \"Engine_type\", \"Total_fatal_injuries\", \"Total_serious_injuries\", \"Total_minor_injuries\", \"Total_uninjured\", \"Weather_condition\",\"Purpose_of_flight\"]\n",
    "df_subset=df[cols_to_keep];\n",
    "df_subset.head()"
   ]
  },
  {
   "cell_type": "markdown",
   "id": "501ec142-f20a-4153-b901-7cd0444b8ac3",
   "metadata": {},
   "source": [
    "We note that the \"Injury_severity\" column is storing the count for fatal injuries inside a paranthesis in front of the mtype of injury. This is inconvenient since if we use groupby, fatal injuries of different kinds will be treated as different categories while they're all actually one category. We fix this as follows:"
   ]
  },
  {
   "cell_type": "code",
   "execution_count": 47,
   "id": "470e9b1c-aa21-4222-b68e-afae8c3c3ba8",
   "metadata": {},
   "outputs": [
    {
     "name": "stderr",
     "output_type": "stream",
     "text": [
      "C:\\Users\\setar\\AppData\\Local\\Temp\\ipykernel_4696\\2247802715.py:1: SettingWithCopyWarning: \n",
      "A value is trying to be set on a copy of a slice from a DataFrame.\n",
      "Try using .loc[row_indexer,col_indexer] = value instead\n",
      "\n",
      "See the caveats in the documentation: https://pandas.pydata.org/pandas-docs/stable/user_guide/indexing.html#returning-a-view-versus-a-copy\n",
      "  df_subset[\"Injury_severity\"]=df_subset[\"Injury_severity\"].str.split('(').str[0]\n"
     ]
    },
    {
     "data": {
      "text/html": [
       "<div>\n",
       "<style scoped>\n",
       "    .dataframe tbody tr th:only-of-type {\n",
       "        vertical-align: middle;\n",
       "    }\n",
       "\n",
       "    .dataframe tbody tr th {\n",
       "        vertical-align: top;\n",
       "    }\n",
       "\n",
       "    .dataframe thead th {\n",
       "        text-align: right;\n",
       "    }\n",
       "</style>\n",
       "<table border=\"1\" class=\"dataframe\">\n",
       "  <thead>\n",
       "    <tr style=\"text-align: right;\">\n",
       "      <th></th>\n",
       "      <th>Event_date</th>\n",
       "      <th>Location</th>\n",
       "      <th>Country</th>\n",
       "      <th>Injury_severity</th>\n",
       "      <th>Make</th>\n",
       "      <th>Model</th>\n",
       "      <th>Number_of_engines</th>\n",
       "      <th>Engine_type</th>\n",
       "      <th>Total_fatal_injuries</th>\n",
       "      <th>Total_serious_injuries</th>\n",
       "      <th>Total_minor_injuries</th>\n",
       "      <th>Total_uninjured</th>\n",
       "      <th>Weather_condition</th>\n",
       "      <th>Purpose_of_flight</th>\n",
       "    </tr>\n",
       "  </thead>\n",
       "  <tbody>\n",
       "    <tr>\n",
       "      <th>0</th>\n",
       "      <td>1948-10-24</td>\n",
       "      <td>MOOSE CREEK, ID</td>\n",
       "      <td>United States</td>\n",
       "      <td>Fatal</td>\n",
       "      <td>Stinson</td>\n",
       "      <td>108-3</td>\n",
       "      <td>1.0</td>\n",
       "      <td>Reciprocating</td>\n",
       "      <td>2.0</td>\n",
       "      <td>0.0</td>\n",
       "      <td>0.0</td>\n",
       "      <td>0.0</td>\n",
       "      <td>UNK</td>\n",
       "      <td>Personal</td>\n",
       "    </tr>\n",
       "    <tr>\n",
       "      <th>1</th>\n",
       "      <td>1962-07-19</td>\n",
       "      <td>BRIDGEPORT, CA</td>\n",
       "      <td>United States</td>\n",
       "      <td>Fatal</td>\n",
       "      <td>Piper</td>\n",
       "      <td>PA24-180</td>\n",
       "      <td>1.0</td>\n",
       "      <td>Reciprocating</td>\n",
       "      <td>4.0</td>\n",
       "      <td>0.0</td>\n",
       "      <td>0.0</td>\n",
       "      <td>0.0</td>\n",
       "      <td>UNK</td>\n",
       "      <td>Personal</td>\n",
       "    </tr>\n",
       "    <tr>\n",
       "      <th>2</th>\n",
       "      <td>1974-08-30</td>\n",
       "      <td>Saltville, VA</td>\n",
       "      <td>United States</td>\n",
       "      <td>Fatal</td>\n",
       "      <td>Cessna</td>\n",
       "      <td>172M</td>\n",
       "      <td>1.0</td>\n",
       "      <td>Reciprocating</td>\n",
       "      <td>3.0</td>\n",
       "      <td>NaN</td>\n",
       "      <td>NaN</td>\n",
       "      <td>NaN</td>\n",
       "      <td>IMC</td>\n",
       "      <td>Personal</td>\n",
       "    </tr>\n",
       "    <tr>\n",
       "      <th>3</th>\n",
       "      <td>1977-06-19</td>\n",
       "      <td>EUREKA, CA</td>\n",
       "      <td>United States</td>\n",
       "      <td>Fatal</td>\n",
       "      <td>Rockwell</td>\n",
       "      <td>112</td>\n",
       "      <td>1.0</td>\n",
       "      <td>Reciprocating</td>\n",
       "      <td>2.0</td>\n",
       "      <td>0.0</td>\n",
       "      <td>0.0</td>\n",
       "      <td>0.0</td>\n",
       "      <td>IMC</td>\n",
       "      <td>Personal</td>\n",
       "    </tr>\n",
       "    <tr>\n",
       "      <th>4</th>\n",
       "      <td>1979-08-02</td>\n",
       "      <td>Canton, OH</td>\n",
       "      <td>United States</td>\n",
       "      <td>Fatal</td>\n",
       "      <td>Cessna</td>\n",
       "      <td>501</td>\n",
       "      <td>NaN</td>\n",
       "      <td>NaN</td>\n",
       "      <td>1.0</td>\n",
       "      <td>2.0</td>\n",
       "      <td>NaN</td>\n",
       "      <td>0.0</td>\n",
       "      <td>VMC</td>\n",
       "      <td>Personal</td>\n",
       "    </tr>\n",
       "  </tbody>\n",
       "</table>\n",
       "</div>"
      ],
      "text/plain": [
       "  Event_date         Location        Country Injury_severity      Make  \\\n",
       "0 1948-10-24  MOOSE CREEK, ID  United States           Fatal   Stinson   \n",
       "1 1962-07-19   BRIDGEPORT, CA  United States           Fatal     Piper   \n",
       "2 1974-08-30    Saltville, VA  United States           Fatal    Cessna   \n",
       "3 1977-06-19       EUREKA, CA  United States           Fatal  Rockwell   \n",
       "4 1979-08-02       Canton, OH  United States           Fatal    Cessna   \n",
       "\n",
       "      Model  Number_of_engines    Engine_type  Total_fatal_injuries  \\\n",
       "0     108-3                1.0  Reciprocating                   2.0   \n",
       "1  PA24-180                1.0  Reciprocating                   4.0   \n",
       "2      172M                1.0  Reciprocating                   3.0   \n",
       "3       112                1.0  Reciprocating                   2.0   \n",
       "4       501                NaN            NaN                   1.0   \n",
       "\n",
       "   Total_serious_injuries  Total_minor_injuries  Total_uninjured  \\\n",
       "0                     0.0                   0.0              0.0   \n",
       "1                     0.0                   0.0              0.0   \n",
       "2                     NaN                   NaN              NaN   \n",
       "3                     0.0                   0.0              0.0   \n",
       "4                     2.0                   NaN              0.0   \n",
       "\n",
       "  Weather_condition Purpose_of_flight  \n",
       "0               UNK          Personal  \n",
       "1               UNK          Personal  \n",
       "2               IMC          Personal  \n",
       "3               IMC          Personal  \n",
       "4               VMC          Personal  "
      ]
     },
     "execution_count": 47,
     "metadata": {},
     "output_type": "execute_result"
    }
   ],
   "source": [
    "df_subset[\"Injury_severity\"]=df_subset[\"Injury_severity\"].str.split('(').str[0]\n",
    "df_subset.head()"
   ]
  },
  {
   "cell_type": "markdown",
   "id": "8f7b59e0-5362-4e28-9b3f-b2e14df905c2",
   "metadata": {},
   "source": [
    "We note that there are some unknown values in several of the columns that are technically nans. We attempt to convert these to nans and check the amount of missing data in this column again. "
   ]
  },
  {
   "cell_type": "code",
   "execution_count": 48,
   "id": "0ba74259-5360-45d4-b548-1ca4b69ee94b",
   "metadata": {},
   "outputs": [
    {
     "name": "stderr",
     "output_type": "stream",
     "text": [
      "C:\\Users\\setar\\AppData\\Local\\Temp\\ipykernel_4696\\3862996511.py:2: FutureWarning: DataFrame.applymap has been deprecated. Use DataFrame.map instead.\n",
      "  df_subset=df_subset.applymap(lambda x: np.nan if x in str_to_nan else x)\n"
     ]
    },
    {
     "data": {
      "text/plain": [
       "Event_date                 1.614867\n",
       "Location                   1.673529\n",
       "Country                    1.868331\n",
       "Injury_severity            2.721698\n",
       "Make                       1.707841\n",
       "Model                      1.721123\n",
       "Number_of_engines          8.348829\n",
       "Engine_type               11.740160\n",
       "Total_fatal_injuries      14.233851\n",
       "Total_serious_injuries    15.461327\n",
       "Total_minor_injuries      14.822686\n",
       "Total_uninjured            8.158454\n",
       "Weather_condition          7.824191\n",
       "Purpose_of_flight         15.997034\n",
       "dtype: float64"
      ]
     },
     "execution_count": 48,
     "metadata": {},
     "output_type": "execute_result"
    }
   ],
   "source": [
    "str_to_nan = ['UNK','Unk','Unknown']\n",
    "df_subset=df_subset.applymap(lambda x: np.nan if x in str_to_nan else x)\n",
    "df_subset.isna().sum()/len(df)*100"
   ]
  },
  {
   "cell_type": "markdown",
   "id": "947039d1-5667-40b3-83e0-210bce0188e6",
   "metadata": {},
   "source": [
    "We note that the remaining data does not have much missing values (a maximum of 15% among columns). We choose to drop these rows to get clean data we can easily work with."
   ]
  },
  {
   "cell_type": "code",
   "execution_count": 49,
   "id": "64a00a1b-bd4f-47ef-ace7-a8356d25dd3c",
   "metadata": {},
   "outputs": [],
   "source": [
    "df_subset.dropna(axis=0,inplace=True)"
   ]
  },
  {
   "cell_type": "markdown",
   "id": "ced4f9a9-3ccf-42c3-b994-7f75e323d57e",
   "metadata": {},
   "source": [
    "Let's take a look at the length of this dataset compared to the original one to make sure we haven't ommitted a significant amount of data. "
   ]
  },
  {
   "cell_type": "code",
   "execution_count": 50,
   "id": "0699b04c-529b-4b29-bce5-f948b60eda9f",
   "metadata": {},
   "outputs": [
    {
     "name": "stdout",
     "output_type": "stream",
     "text": [
      "The percentage of retained data is: 64.05675831230354\n"
     ]
    }
   ],
   "source": [
    "print(\"The percentage of retained data is:\", len(df_subset)/len(df)*100)"
   ]
  },
  {
   "cell_type": "code",
   "execution_count": 51,
   "id": "99f95ada-f2be-4f0a-8696-0b843d9003e4",
   "metadata": {},
   "outputs": [
    {
     "data": {
      "text/plain": [
       "Event_date                0\n",
       "Location                  0\n",
       "Country                   0\n",
       "Injury_severity           0\n",
       "Make                      0\n",
       "Model                     0\n",
       "Number_of_engines         0\n",
       "Engine_type               0\n",
       "Total_fatal_injuries      0\n",
       "Total_serious_injuries    0\n",
       "Total_minor_injuries      0\n",
       "Total_uninjured           0\n",
       "Weather_condition         0\n",
       "Purpose_of_flight         0\n",
       "dtype: int64"
      ]
     },
     "execution_count": 51,
     "metadata": {},
     "output_type": "execute_result"
    }
   ],
   "source": [
    "df_subset.isna().sum()"
   ]
  },
  {
   "cell_type": "markdown",
   "id": "64921716-879d-432a-bd32-23104b3aa374",
   "metadata": {},
   "source": [
    "Let's take a look at the Country column and see how much data we have on each country. "
   ]
  },
  {
   "cell_type": "markdown",
   "id": "cca10ca4-ae2d-435b-b876-d6869ef9d562",
   "metadata": {},
   "source": [
    "### 3.3. Filtering and Cleaning"
   ]
  },
  {
   "cell_type": "markdown",
   "id": "205acae2-3a65-4c23-8169-f93d2cca50d7",
   "metadata": {},
   "source": [
    "We justify filtering the data based on **country** as follows: "
   ]
  },
  {
   "cell_type": "code",
   "execution_count": 52,
   "id": "876624cc-87b5-43bb-8634-777a74c0c290",
   "metadata": {},
   "outputs": [
    {
     "name": "stdout",
     "output_type": "stream",
     "text": [
      "0.9933476172374469\n"
     ]
    }
   ],
   "source": [
    "df_subset['Country'].value_counts()\n",
    "print(df_subset['Country'].value_counts().max()/len(df_subset))"
   ]
  },
  {
   "cell_type": "markdown",
   "id": "62e6f62a-3d80-4b03-89ff-ffc58f8be2c3",
   "metadata": {},
   "source": [
    "Data from the US comprises 99% of the data. This is a huge portion. Data entries from other countries may not be enough for making a good decision. Therefore, we will drop any rows with data on countries other than the US. We will also change the **Location** column such that it only contains the abbreviation for the name of the **state**. "
   ]
  },
  {
   "cell_type": "code",
   "execution_count": 53,
   "id": "9ebe29a7-dab9-4519-94e1-744f566dddeb",
   "metadata": {},
   "outputs": [
    {
     "name": "stdout",
     "output_type": "stream",
     "text": [
      "['CA', 'MN', 'WA', 'NJ', 'FL', 'NM', 'AL', 'LA', 'TX', 'OK', 'AR', 'UT', 'AK', 'PA', 'MI', 'VA', 'NC', 'NY', 'MT', 'OR', 'IN', 'AZ', 'MO', 'WY', 'IL', 'SC', 'MD', 'OH', 'CO', 'VT', 'GA', 'KS', 'DC', 'NH', 'IA', 'MS', 'ID', 'WI', 'NV', 'CT', 'KY', 'HI', 'TN', 'MA', 'ME', 'SD', 'NE', 'ND', 'RI', 'WV', 'DE', 'OAHU', 'PR', 'MAUI', 'GU', 'KAUAI', 'GM', 'San Juan Is.', 'PO', '', 'Maui', 'AO']\n"
     ]
    }
   ],
   "source": [
    "df_subset = df_subset[df_subset[\"Country\"]==\"United States\"]\n",
    "df_subset[\"Location\"]=df_subset[\"Location\"].str.split(',').str[1].str.strip()\n",
    "print(df_subset[\"Location\"].unique().tolist())"
   ]
  },
  {
   "cell_type": "markdown",
   "id": "cf4441a1-ee72-4002-868f-7b52e17d1aca",
   "metadata": {},
   "source": [
    "It mostly worked except for some locations in Hawaii, a location that ended up as an empty string and San Juan Is. which is part of the Washington state. Let's **fix these few odd ones manually**. "
   ]
  },
  {
   "cell_type": "code",
   "execution_count": 54,
   "id": "18b62de1-ba28-441f-8f45-31dacff19c64",
   "metadata": {},
   "outputs": [
    {
     "name": "stdout",
     "output_type": "stream",
     "text": [
      "['CA', 'MN', 'WA', 'NJ', 'FL', 'NM', 'AL', 'LA', 'TX', 'OK', 'AR', 'UT', 'AK', 'PA', 'MI', 'VA', 'NC', 'NY', 'MT', 'OR', 'IN', 'AZ', 'MO', 'WY', 'IL', 'SC', 'MD', 'OH', 'CO', 'VT', 'GA', 'KS', 'DC', 'NH', 'IA', 'MS', 'ID', 'WI', 'NV', 'CT', 'KY', 'HI', 'TN', 'MA', 'ME', 'SD', 'NE', 'ND', 'RI', 'WV', 'DE', 'PR', 'GU', 'GM', 'PO', '', 'AO']\n"
     ]
    }
   ],
   "source": [
    "hi_dict =  {\"MANU'A\": \"HI\", \"MAUI\": \"HI\",\"KAUAI\": \"HI\", \"MOLOKAI\": \"HI\",\"Maui\": \"HI\",\"OAHU\": \"HI\", \"San Juan Is.\": \"WA\"}\n",
    "df_subset[\"Location\"]=df_subset[\"Location\"].replace(hi_dict)\n",
    "print(df_subset[\"Location\"].unique().tolist())"
   ]
  },
  {
   "cell_type": "markdown",
   "id": "19fd4832-a441-4006-859c-8a112d2489e3",
   "metadata": {},
   "source": [
    "We will also **clean the Make column** to unify some of the categories that are considered separately because of a difference in spelling. Let's first take a look at how many redundant categories are being identified just because of spelling differences:"
   ]
  },
  {
   "cell_type": "code",
   "execution_count": 55,
   "id": "fb88e0fe-d737-49f0-a430-a20ebed7591e",
   "metadata": {},
   "outputs": [
    {
     "data": {
      "text/plain": [
       "423"
      ]
     },
     "execution_count": 55,
     "metadata": {},
     "output_type": "execute_result"
    }
   ],
   "source": [
    "len(df_subset[\"Make\"].unique().tolist())-len(df_subset[\"Make\"].str.title().unique().tolist())"
   ]
  },
  {
   "cell_type": "markdown",
   "id": "37929aae-d322-40cd-80d3-0235a2316bff",
   "metadata": {},
   "source": [
    "There are **423** redundant categories in the Make column if we do not unify the capitalization of the names. "
   ]
  },
  {
   "cell_type": "code",
   "execution_count": 56,
   "id": "10b62d54-f83e-4f26-9e06-2923be87b098",
   "metadata": {},
   "outputs": [],
   "source": [
    "df_subset[\"Make\"] = df_subset[\"Make\"].str.title()"
   ]
  },
  {
   "cell_type": "markdown",
   "id": "06ce2567-27df-4ece-890f-f86e54c8384f",
   "metadata": {},
   "source": [
    "#### Digression: Is it justified to consider ratios instead of absolute values? "
   ]
  },
  {
   "cell_type": "markdown",
   "id": "fd9bfa37-e88f-444e-8ff2-9a6d1e615f1a",
   "metadata": {},
   "source": [
    "We note that the number of fatal/serious/minor injuries in each incident represents the absolute value. How fatal an incident also depends on how many people out of everyone onboard sustained injuries. Here, we investigate whether considering relative ratios ionstead of absolute values is more appropriate. \n",
    "\n",
    "We will assume that the sum of the \"Total_fatal_injuries\", \"Total_serious_injuries\", \"Total_minor_injuries\" and \"Total_uninjured\" gives the number of people on board. We will add 3 columns to the dataframe that shows that percentage of injuries for the number of people onboard instead of just absolute numbers. "
   ]
  },
  {
   "cell_type": "code",
   "execution_count": 57,
   "id": "08b25886-b7e5-4848-8caf-c074c4c202f0",
   "metadata": {},
   "outputs": [],
   "source": [
    "df_subset[\"Total_onboard\"]=df_subset[\"Total_fatal_injuries\"]+df_subset[\"Total_serious_injuries\"]+df_subset[\"Total_minor_injuries\"]+df_subset[\"Total_uninjured\"]\n",
    "df_subset[\"Total_fatal_injuries_ratio\"]=df_subset[\"Total_fatal_injuries\"]/df_subset[\"Total_onboard\"]\n",
    "df_subset[\"Total_serious_injuries_ratio\"]=df_subset[\"Total_serious_injuries\"]/df_subset[\"Total_onboard\"]\n",
    "df_subset[\"Total_minor_injuries_ratio\"]=df_subset[\"Total_minor_injuries\"]/df_subset[\"Total_onboard\"]\n",
    "df_subset[\"Total_uninjured_ratio\"]=df_subset[\"Total_uninjured\"]/df_subset[\"Total_onboard\"]\n",
    "#df_subset.tail(200)"
   ]
  },
  {
   "cell_type": "code",
   "execution_count": 58,
   "id": "0fe7c7f6-88d4-43ea-832b-edfb25436377",
   "metadata": {},
   "outputs": [],
   "source": [
    "# categorize the size of the airplane based on the number of people onboard. \n",
    "bins = [0,5, 20, 150, df_subset[\"Total_onboard\"].max()]\n",
    "labels = ['very small aircraft','small aircraft', 'medium aircraft', 'large aircraft']\n",
    "\n",
    "df_subset['Aircraft_size'] = pd.cut(df_subset['Total_onboard'], bins=bins, labels=labels, right=False)"
   ]
  },
  {
   "cell_type": "code",
   "execution_count": 59,
   "id": "ffebf9e7-2aff-4622-bbeb-47f97bfa4550",
   "metadata": {},
   "outputs": [
    {
     "data": {
      "image/png": "[encoded data removed]",
      "text/plain": [
       "<Figure size 600x400 with 1 Axes>"
      ]
     },
     "metadata": {},
     "output_type": "display_data"
    }
   ],
   "source": [
    "ax=df_subset['Aircraft_size'].value_counts().plot(kind='bar', figsize=(6,4),xlabel=\"Aircraft Size\", ylabel=\"Count\", width=0.2, color=\"blue\");\n",
    "ax.grid(axis=\"y\")"
   ]
  },
  {
   "cell_type": "markdown",
   "id": "3dac5827-5631-4a35-86ee-263d5dcfe9d0",
   "metadata": {},
   "source": [
    "Note that the majority of the aviation accidents is for aircrafts containing fewer than or equal to 5 passengers. This is indeed surprising but explains the close-to-zero means and the zero medians for numerical data. This categorization is inevitable if we want our analysis to be reasonable. Taking a look at the \"Purpose of flight\" column, we will see that the \"Personal\" category (associated with recreational flying, private transportation, flying as a hobby or passion) has the highest count. Aircrafts used for this purpose are usually very small so both figures are telling a consistent story. "
   ]
  },
  {
   "cell_type": "code",
   "execution_count": 60,
   "id": "04f9e8c4-97b8-47c2-910c-5b8fc43c7f6e",
   "metadata": {},
   "outputs": [
    {
     "data": {
      "image/png": "[encoded data removed]",
      "text/plain": [
       "<Figure size 600x400 with 1 Axes>"
      ]
     },
     "metadata": {},
     "output_type": "display_data"
    }
   ],
   "source": [
    "ax=df['Purpose_of_flight'].value_counts().sort_values(ascending=False).iloc[0:5].plot(kind='bar', figsize=(6,4),xlabel=\"Purpose of Flight\", ylabel=\"Count\",width=0.2,color=\"blue\",alpha=0.7);\n",
    "ax.grid(axis=\"y\")\n",
    "ax.set_xticklabels(df['Purpose_of_flight'].value_counts().sort_values(ascending=False).iloc[0:5].index,rotation=45);"
   ]
  },
  {
   "cell_type": "code",
   "execution_count": 61,
   "id": "20f03c5a-488c-4ea6-a760-ec32e08e51e1",
   "metadata": {},
   "outputs": [
    {
     "name": "stderr",
     "output_type": "stream",
     "text": [
      "C:\\Users\\setar\\AppData\\Local\\Temp\\ipykernel_4696\\3591211457.py:2: FutureWarning: The default of observed=False is deprecated and will be changed to True in a future version of pandas. Pass observed=False to retain current behavior or observed=True to adopt the future default and silence this warning.\n",
      "  df_subset.groupby(\"Aircraft_size\")[cols_to_agg].agg([\"median\",\"mean\",\"std\"])\n"
     ]
    },
    {
     "data": {
      "text/html": [
       "<div>\n",
       "<style scoped>\n",
       "    .dataframe tbody tr th:only-of-type {\n",
       "        vertical-align: middle;\n",
       "    }\n",
       "\n",
       "    .dataframe tbody tr th {\n",
       "        vertical-align: top;\n",
       "    }\n",
       "\n",
       "    .dataframe thead tr th {\n",
       "        text-align: left;\n",
       "    }\n",
       "\n",
       "    .dataframe thead tr:last-of-type th {\n",
       "        text-align: right;\n",
       "    }\n",
       "</style>\n",
       "<table border=\"1\" class=\"dataframe\">\n",
       "  <thead>\n",
       "    <tr>\n",
       "      <th></th>\n",
       "      <th colspan=\"3\" halign=\"left\">Total_fatal_injuries</th>\n",
       "      <th colspan=\"3\" halign=\"left\">Total_onboard</th>\n",
       "      <th colspan=\"3\" halign=\"left\">Total_fatal_injuries_ratio</th>\n",
       "      <th colspan=\"3\" halign=\"left\">Total_serious_injuries_ratio</th>\n",
       "      <th colspan=\"3\" halign=\"left\">Total_minor_injuries_ratio</th>\n",
       "    </tr>\n",
       "    <tr>\n",
       "      <th></th>\n",
       "      <th>median</th>\n",
       "      <th>mean</th>\n",
       "      <th>std</th>\n",
       "      <th>median</th>\n",
       "      <th>mean</th>\n",
       "      <th>std</th>\n",
       "      <th>median</th>\n",
       "      <th>mean</th>\n",
       "      <th>std</th>\n",
       "      <th>median</th>\n",
       "      <th>mean</th>\n",
       "      <th>std</th>\n",
       "      <th>median</th>\n",
       "      <th>mean</th>\n",
       "      <th>std</th>\n",
       "    </tr>\n",
       "    <tr>\n",
       "      <th>Aircraft_size</th>\n",
       "      <th></th>\n",
       "      <th></th>\n",
       "      <th></th>\n",
       "      <th></th>\n",
       "      <th></th>\n",
       "      <th></th>\n",
       "      <th></th>\n",
       "      <th></th>\n",
       "      <th></th>\n",
       "      <th></th>\n",
       "      <th></th>\n",
       "      <th></th>\n",
       "      <th></th>\n",
       "      <th></th>\n",
       "      <th></th>\n",
       "    </tr>\n",
       "  </thead>\n",
       "  <tbody>\n",
       "    <tr>\n",
       "      <th>very small aircraft</th>\n",
       "      <td>0.0</td>\n",
       "      <td>0.289206</td>\n",
       "      <td>0.725640</td>\n",
       "      <td>2.0</td>\n",
       "      <td>1.720413</td>\n",
       "      <td>0.866553</td>\n",
       "      <td>0.0</td>\n",
       "      <td>0.160688</td>\n",
       "      <td>0.358669</td>\n",
       "      <td>0.0</td>\n",
       "      <td>0.113427</td>\n",
       "      <td>0.294764</td>\n",
       "      <td>0.0</td>\n",
       "      <td>0.136621</td>\n",
       "      <td>0.320721</td>\n",
       "    </tr>\n",
       "    <tr>\n",
       "      <th>small aircraft</th>\n",
       "      <td>0.0</td>\n",
       "      <td>1.307138</td>\n",
       "      <td>2.389217</td>\n",
       "      <td>5.0</td>\n",
       "      <td>6.051081</td>\n",
       "      <td>1.823111</td>\n",
       "      <td>0.0</td>\n",
       "      <td>0.218650</td>\n",
       "      <td>0.383845</td>\n",
       "      <td>0.0</td>\n",
       "      <td>0.087358</td>\n",
       "      <td>0.203117</td>\n",
       "      <td>0.0</td>\n",
       "      <td>0.104861</td>\n",
       "      <td>0.226323</td>\n",
       "    </tr>\n",
       "    <tr>\n",
       "      <th>medium aircraft</th>\n",
       "      <td>0.0</td>\n",
       "      <td>3.653846</td>\n",
       "      <td>16.049778</td>\n",
       "      <td>54.5</td>\n",
       "      <td>61.461538</td>\n",
       "      <td>37.867380</td>\n",
       "      <td>0.0</td>\n",
       "      <td>0.046967</td>\n",
       "      <td>0.178739</td>\n",
       "      <td>0.0</td>\n",
       "      <td>0.021610</td>\n",
       "      <td>0.048781</td>\n",
       "      <td>0.0</td>\n",
       "      <td>0.128072</td>\n",
       "      <td>0.278428</td>\n",
       "    </tr>\n",
       "    <tr>\n",
       "      <th>large aircraft</th>\n",
       "      <td>0.0</td>\n",
       "      <td>0.166667</td>\n",
       "      <td>0.408248</td>\n",
       "      <td>178.0</td>\n",
       "      <td>192.500000</td>\n",
       "      <td>43.857725</td>\n",
       "      <td>0.0</td>\n",
       "      <td>0.001048</td>\n",
       "      <td>0.002568</td>\n",
       "      <td>0.0</td>\n",
       "      <td>0.001048</td>\n",
       "      <td>0.002568</td>\n",
       "      <td>0.0</td>\n",
       "      <td>0.000000</td>\n",
       "      <td>0.000000</td>\n",
       "    </tr>\n",
       "  </tbody>\n",
       "</table>\n",
       "</div>"
      ],
      "text/plain": [
       "                    Total_fatal_injuries                      Total_onboard  \\\n",
       "                                  median      mean        std        median   \n",
       "Aircraft_size                                                                 \n",
       "very small aircraft                  0.0  0.289206   0.725640           2.0   \n",
       "small aircraft                       0.0  1.307138   2.389217           5.0   \n",
       "medium aircraft                      0.0  3.653846  16.049778          54.5   \n",
       "large aircraft                       0.0  0.166667   0.408248         178.0   \n",
       "\n",
       "                                           Total_fatal_injuries_ratio  \\\n",
       "                           mean        std                     median   \n",
       "Aircraft_size                                                           \n",
       "very small aircraft    1.720413   0.866553                        0.0   \n",
       "small aircraft         6.051081   1.823111                        0.0   \n",
       "medium aircraft       61.461538  37.867380                        0.0   \n",
       "large aircraft       192.500000  43.857725                        0.0   \n",
       "\n",
       "                                        Total_serious_injuries_ratio  \\\n",
       "                         mean       std                       median   \n",
       "Aircraft_size                                                          \n",
       "very small aircraft  0.160688  0.358669                          0.0   \n",
       "small aircraft       0.218650  0.383845                          0.0   \n",
       "medium aircraft      0.046967  0.178739                          0.0   \n",
       "large aircraft       0.001048  0.002568                          0.0   \n",
       "\n",
       "                                        Total_minor_injuries_ratio            \\\n",
       "                         mean       std                     median      mean   \n",
       "Aircraft_size                                                                  \n",
       "very small aircraft  0.113427  0.294764                        0.0  0.136621   \n",
       "small aircraft       0.087358  0.203117                        0.0  0.104861   \n",
       "medium aircraft      0.021610  0.048781                        0.0  0.128072   \n",
       "large aircraft       0.001048  0.002568                        0.0  0.000000   \n",
       "\n",
       "                               \n",
       "                          std  \n",
       "Aircraft_size                  \n",
       "very small aircraft  0.320721  \n",
       "small aircraft       0.226323  \n",
       "medium aircraft      0.278428  \n",
       "large aircraft       0.000000  "
      ]
     },
     "execution_count": 61,
     "metadata": {},
     "output_type": "execute_result"
    }
   ],
   "source": [
    "cols_to_agg = [\"Total_fatal_injuries\",\"Total_onboard\",\"Total_fatal_injuries_ratio\", \"Total_serious_injuries_ratio\",\"Total_minor_injuries_ratio\"]\n",
    "df_subset.groupby(\"Aircraft_size\")[cols_to_agg].agg([\"median\",\"mean\",\"std\"])"
   ]
  },
  {
   "cell_type": "markdown",
   "id": "6ac0bd8f-c1b9-4bf3-8ab1-a55b7e780f12",
   "metadata": {},
   "source": [
    "The statistics shown in the table above are now more representative of the data. The median for total fatal injuries is still zero. This is okay and only indicates that more than half of the accidents in each category did not lead to fatal injuries. At this point, we need to decide whether the ratios we computed are an appropriate metric to use for aircraft safety considering the rarity of moderate or large fatal injury ratios. A more appropriate (and restrictive) metric to use seems to be whether the incident was classified as \"fatal\" or not. The number of accidents classified as fatal can then be used as a metric to base the analysis on. \n",
    "\n",
    "Based on the discussion above, we will remove the columns we added that consider ratios from the dataset. We will also drop all information on how many fatal, serious or minor injuries the incidents had and **will solely rely on the injury severity classification to continue the analysis**."
   ]
  },
  {
   "cell_type": "code",
   "execution_count": 62,
   "id": "60da0a21-e5e0-47b1-bc86-c8915d86d410",
   "metadata": {},
   "outputs": [
    {
     "data": {
      "text/plain": [
       "0.08468366759640501"
      ]
     },
     "execution_count": 62,
     "metadata": {},
     "output_type": "execute_result"
    }
   ],
   "source": [
    "cols_to_drop = [\"Total_fatal_injuries_ratio\",\"Total_serious_injuries_ratio\", \"Total_minor_injuries_ratio\", \"Total_uninjured_ratio\",\"Total_fatal_injuries\",\"Total_serious_injuries\", \"Total_minor_injuries\", \"Total_uninjured\"]\n",
    "df_subset.drop(columns=cols_to_drop,inplace=True)\n",
    "df[\"Purpose_of_flight\"].isna().sum()/len(df)\n",
    "#df_subset[\"Purpose_of_travel\"]=df[\"Purpose_of_travel\"]\n",
    "#df_subset.head()"
   ]
  },
  {
   "cell_type": "markdown",
   "id": "d8de46cf-e658-4fc3-80ba-75275f4ca2f9",
   "metadata": {},
   "source": [
    "### 3.4. Summary\n",
    "1. The analysis will be limited to US only (note that our analysis showed 98% of the data is for the US anyway, so this shouldn't have a huge implication anyway).\n",
    "2. We will use ratios instead of absolute values for the analysis since absolute number of fatalities without information on how many passengers were on board is not a good metric to consider.\n",
    "3. After handling the missing values appropriately, about 71% of the original data remains to be analyzed.\n",
    "4. We categorized the size of the airplane based on the number of people onboard since the database was skewed towards very small aircrafts (with fewer than 5 people on board) and the statistics were not representative of other aircraft sizes. After doing so, we observed that the fatal injury ratios are in general very small. This means we need to rethink using this metric for aircraft safety. Instead, we base our analysis on the number of accidents classified as fatal. "
   ]
  },
  {
   "cell_type": "markdown",
   "id": "86580519-3327-4022-8b5c-7f6ab41c7933",
   "metadata": {},
   "source": [
    "## 4. Data Analysis"
   ]
  },
  {
   "cell_type": "markdown",
   "id": "2914fe73-a70f-4da1-b758-234305fb89d3",
   "metadata": {},
   "source": [
    "In this section, we analyze and visualize the data further to identify factors that affect aircraft safety. Business recommendations will be made based on the findings in this section. "
   ]
  },
  {
   "cell_type": "markdown",
   "id": "9f72c59d-7e43-4386-96f6-8fcbc6f1e894",
   "metadata": {},
   "source": [
    "### 4.1. Location"
   ]
  },
  {
   "cell_type": "code",
   "execution_count": 63,
   "id": "ea579257-063f-4f2d-8854-1bf1e05ec1d7",
   "metadata": {},
   "outputs": [
    {
     "data": {
      "image/png": "[encoded data removed]",
      "text/plain": [
       "<Figure size 1200x600 with 2 Axes>"
      ]
     },
     "metadata": {},
     "output_type": "display_data"
    }
   ],
   "source": [
    "grouped_by_loc = df_subset[(df_subset[\"Injury_severity\"]==\"Fatal\")].groupby(['Location'])\n",
    "\n",
    "# Making sure the trend holds in the recent years \n",
    "grouped_by_loc_2000 = df_subset[(df_subset[\"Injury_severity\"]==\"Fatal\") & (df_subset[\"Event_date\"].dt.year>=2000)].groupby(['Location'])\n",
    "\n",
    "fig1,ax1=plt.subplots(1,2,figsize=(12,6))\n",
    "grouped_by_loc.size().sort_values(ascending=False).iloc[0:10].plot(kind=\"bar\",ax=ax1[0],xlabel=\"Location (US State)\", ylabel=\"Number of Fatal Accidents\", title=\"Effect of Location: All Data\",width=0.4,color=\"blue\",alpha=0.7);\n",
    "ax1[0].grid(axis=\"y\")\n",
    "\n",
    "grouped_by_loc_2000.size().sort_values(ascending=False).iloc[0:10].plot(kind=\"bar\",ax=ax1[1],xlabel=\"Location (US State)\", ylabel=\"Number of Fatal Accidents\", title=\"Effect of Location: 2000 Onwards\",width=0.4,color=\"red\",alpha=0.7);\n",
    "ax1[1].grid(axis=\"y\")\n",
    "\n",
    "plt.savefig(\"./figures/effect_of_location.png\")"
   ]
  },
  {
   "cell_type": "markdown",
   "id": "a0a121ac-938c-4309-bbdc-2129781bed6a",
   "metadata": {},
   "source": [
    "**Observations:** \n",
    "1. Regardless of whether we consider the data from 2000 onwards or not, California, Texas and Florida have the highest number of accidents classified as fatal among all states. Although, Texas and Florida have swapped places over the years.\n",
    "2. In 4th rank onwards, most states that appear in the left subfigure appear in the right subfigure as well except for Washington which has given its place to Ohio from 2000 onwards (although they don't share the same rank).\n",
    "\n",
    "**Important Notes:** \n",
    "1. Note that we do not have access to the total number of flights that takes place in each state to normalize these results. It would be a better idea to consider the number of fatal accidents divided by the total number of all inbound/outbound flights in a specific location.\n",
    "2. One might argue that we can use the the ratio of accidents classified as fatal divided by total number of accidents in a location for this study. However, such a metric would over-exaggerate the importance of locations with very low number of accidents whose only accidents have been fatal (essentially a ratio of 1).\n",
    "3. Bound to the limitations explained, we continue using the total number of fatal accidents as the metric of choice.  "
   ]
  },
  {
   "cell_type": "markdown",
   "id": "d4ae1371-df9e-4e90-88dd-a1f18e807aa9",
   "metadata": {},
   "source": [
    "### 4.2. Purpose of Flight"
   ]
  },
  {
   "cell_type": "markdown",
   "id": "7a054e4e-8a6f-4c04-ad52-d8a4af68249e",
   "metadata": {},
   "source": [
    "We can further identify the major cause of fatal accidents in each state by looking at the purpose of flight. Let's do that for the first three states that appear in the above figure (i.e. California, Texas, Florida). We only consider data for 2000 onwards to remain more relevant. "
   ]
  },
  {
   "cell_type": "code",
   "execution_count": 64,
   "id": "ea6c7c76-c8d6-4e25-bee1-3e9b4d3ca7ac",
   "metadata": {},
   "outputs": [
    {
     "data": {
      "image/png": "[encoded data removed]",
      "text/plain": [
       "<Figure size 1200x400 with 3 Axes>"
      ]
     },
     "metadata": {},
     "output_type": "display_data"
    }
   ],
   "source": [
    "fig2,ax2 = plt.subplots(1,3,figsize=(12,4))\n",
    "top_locs = [\"CA\",\"TX\",\"FL\"]\n",
    "\n",
    "for i in range(0,3): \n",
    "    grouped_by_purpose=df_subset[(df_subset[\"Injury_severity\"]==\"Fatal\") & (df_subset[\"Location\"]==top_locs[i]) & (df_subset[\"Event_date\"].dt.year>=2000)].groupby(['Purpose_of_flight']).size().sort_values(ascending=False).iloc[0:2]\n",
    "    grouped_by_purpose.plot(kind=\"bar\",ax=ax2[i],xlabel=\"Purpose of Flight\", title=f\"Major Contributors in {top_locs[i]}\",width=0.15,color=\"blue\", alpha=0.7);\n",
    "    ax2[i].set_xticklabels(grouped_by_purpose.index, rotation=45)\n",
    "    ax2[0].set_ylabel(\"Number of Fatal Accidents\")"
   ]
  },
  {
   "cell_type": "markdown",
   "id": "f12eea72-f300-4805-bc4d-e1ca19cd18f9",
   "metadata": {},
   "source": [
    "**Observations:**\n",
    "In all three of the top states with most fatal aviation accidents, the major contributors seem to be personal and instructional flights. This may be due to the fact that in these states, lots of people are interested in recreational flying, private transportation, or flying as a hobby. It may also be explained by the fact that military bases in these locations use small aircrafts for instructional purposes.  "
   ]
  },
  {
   "cell_type": "markdown",
   "id": "e5f86439-ca0c-44e5-8be7-40fba3c57fea",
   "metadata": {},
   "source": [
    "### 4.3. Engine Type and Count"
   ]
  },
  {
   "cell_type": "markdown",
   "id": "9600177e-e27e-4b6a-9f02-1c837006809f",
   "metadata": {},
   "source": [
    "Given that the design of engines has progressed a lot over the years, we only consider data from 2000 onwards so that our findings doesn't get polluted by noise from old records. "
   ]
  },
  {
   "cell_type": "code",
   "execution_count": 65,
   "id": "61b88208-2dfa-4b27-a86c-abcb3807595e",
   "metadata": {},
   "outputs": [
    {
     "data": {
      "image/png": "[encoded data removed]",
      "text/plain": [
       "<Figure size 1200x500 with 2 Axes>"
      ]
     },
     "metadata": {},
     "output_type": "display_data"
    }
   ],
   "source": [
    "fig3,ax3=plt.subplots(1,2,figsize=(12,6))\n",
    "grouped_by_eng_type = df_subset[(df_subset[\"Injury_severity\"]==\"Fatal\") & (df_subset[\"Event_date\"].dt.year>=2000)].groupby(\"Engine_type\")\n",
    "grouped_by_eng_count = df_subset[(df_subset[\"Injury_severity\"]==\"Fatal\") & (df_subset[\"Event_date\"].dt.year>=2000)].groupby(\"Number_of_engines\")\n",
    "\n",
    "grouped_by_eng_type.size().sort_values(ascending=False).plot(kind=\"bar\",ax=ax3[0],ylabel=\"Number of Fatal Accidents\",xlabel=\"Engine Type\",width=0.3,color='#99ff99',alpha=0.7,figsize=(12,6));\n",
    "grouped_by_eng_count.size().sort_values(ascending=False).plot(kind=\"bar\",ax=ax3[1],ylabel=\"Number of Fatal Accidents\",xlabel=\"Number of Engines\",width=0.15,color='#99ff99',alpha=0.7,figsize=(12,5));\n",
    "\n",
    "ax3[0].grid(axis=\"y\")\n",
    "ax3[1].grid(axis=\"y\")\n",
    "ax3[0].set_xticklabels(grouped_by_eng_type.size().sort_values(ascending=False).index, rotation=20)\n",
    "ax3[1].set_xticklabels(grouped_by_eng_count.size().sort_values(ascending=False).index, rotation=20)\n",
    "\n",
    "# Add counts to each bar\n",
    "for i in ax3[0].patches:\n",
    "    ax3[0].text(i.get_x() + i.get_width()/2, i.get_height() + 0.08, \n",
    "            str(round(i.get_height(), 2)), fontsize=10, color=\"red\")\n",
    "    \n",
    "for i in ax3[1].patches:\n",
    "    ax3[1].text(i.get_x() + i.get_width()/2, i.get_height() + 0.08, \n",
    "            str(round(i.get_height(), 2)), fontsize=10, color=\"red\")    \n",
    "\n",
    "plt.savefig(\"./figures/effect_of_engine.png\")"
   ]
  },
  {
   "cell_type": "markdown",
   "id": "9138bff0-9949-4ccb-867f-af14368d459b",
   "metadata": {},
   "source": [
    "**Observations:**\n",
    "1. Most fatal accidents correspond to aircrafts using reciprocating engines. Most small aircrafts use reciprocating engines. \n",
    "2. As the number of engines increases, the number of fatal accidents decreases. "
   ]
  },
  {
   "cell_type": "markdown",
   "id": "97f902f4-3667-40a9-9df9-59ccbbf812e4",
   "metadata": {},
   "source": [
    "### 4.4. Make and Model"
   ]
  },
  {
   "cell_type": "markdown",
   "id": "14a7e818-308c-40ae-be60-e1a6462403d1",
   "metadata": {},
   "source": [
    "We will study the effect of make and model with two visualizations: first, we will visualize the worst make and model pair in terms of safety. Then we will visualize the number of fatal accidents for each factor separately to identify the worst make and worst model "
   ]
  },
  {
   "cell_type": "code",
   "execution_count": 66,
   "id": "9de07dce-1866-4443-94a5-3ce7f6253fb5",
   "metadata": {},
   "outputs": [
    {
     "data": {
      "image/png": "[encoded data removed]",
      "text/plain": [
       "<Figure size 1500x600 with 1 Axes>"
      ]
     },
     "metadata": {},
     "output_type": "display_data"
    },
    {
     "data": {
      "image/png": "[encoded data removed]",
      "text/plain": [
       "<Figure size 1500x600 with 2 Axes>"
      ]
     },
     "metadata": {},
     "output_type": "display_data"
    }
   ],
   "source": [
    "grouped_by_mm = df_subset[(df_subset[\"Injury_severity\"]==\"Fatal\") & (df_subset[\"Event_date\"].dt.year>=2000)].groupby([\"Make\",\"Model\"])\n",
    "ax4=(grouped_by_mm.size().sort_values(ascending=False)[:10][::-1]).plot(kind=\"barh\",xlabel=\"Number of Fatal Accidents\",ylabel=\"(Make, Model)\", width=0.2,color=\"blue\",alpha=0.7,figsize=(15,6));\n",
    "ax4.grid(axis=\"x\")\n",
    "plt.savefig(\"./figures/effect_of_Make_and_Model_1.png\")\n",
    "\n",
    "grouped_by_make = df_subset[(df_subset[\"Injury_severity\"]==\"Fatal\") & (df_subset[\"Event_date\"].dt.year>=2000)].groupby(\"Make\")\n",
    "grouped_by_model = df_subset[(df_subset[\"Injury_severity\"]==\"Fatal\") & (df_subset[\"Event_date\"].dt.year>=2000)].groupby(\"Model\")\n",
    "\n",
    "fig5,ax5 = plt.subplots(1,2,figsize=(15,6))\n",
    "(grouped_by_make.size().sort_values(ascending=False)[:10][::-1]).plot(kind=\"barh\",ax=ax5[0],xlabel=\"Number of Fatal Accidents\",ylabel=\"Make\", width=0.2,color=\"red\",alpha=0.7);\n",
    "(grouped_by_model.size().sort_values(ascending=False)[:10][::-1]).plot(kind=\"barh\",ax=ax5[1],xlabel=\"Number of Fatal Accidents\",ylabel=\"Model\", width=0.2,color=\"red\",alpha=0.7);\n",
    "plt.savefig(\"./figures/effect_of_Make_and_Model_2.png\")\n"
   ]
  },
  {
   "cell_type": "markdown",
   "id": "659f6b5a-2968-4807-8865-71381fe7eb50",
   "metadata": {},
   "source": [
    "### 4.5. Weather (Month)"
   ]
  },
  {
   "cell_type": "markdown",
   "id": "c7bf2aeb-4761-4356-9fd8-067a485bd84b",
   "metadata": {},
   "source": [
    "As a last factor, we consider grouping the data by month to see if any meaningful correlation exists between the number of fatal accidents and the time of travel (the granularity we consider is month). "
   ]
  },
  {
   "cell_type": "code",
   "execution_count": 67,
   "id": "d6566cf8-de92-4bbe-88b6-3b54218adfb6",
   "metadata": {},
   "outputs": [
    {
     "data": {
      "image/png": "[encoded data removed]",
      "text/plain": [
       "<Figure size 1200x600 with 1 Axes>"
      ]
     },
     "metadata": {},
     "output_type": "display_data"
    }
   ],
   "source": [
    "grouped_by_month = df_subset[(df_subset[\"Injury_severity\"]==\"Fatal\") & (df_subset[\"Event_date\"].dt.year>=2000)].groupby(df[\"Event_date\"].dt.month)\n",
    "ax6=grouped_by_month.size().plot(kind=\"bar\",ylabel=\"Number of Fatal Accidents\",xlabel=\"Month\",width=0.15,color=\"green\",alpha=0.7,figsize=(12,6));\n",
    "month_labels = [\"Jan.\",\"Feb.\",\"Mar.\", \"Apr.\",\"May\",\"June\",\"July\",\"Aug.\",\"Sep.\",\"Oct.\",\"Nov.\",\"Dec.\"]\n",
    "ax6.set_xticklabels(month_labels);\n",
    "plt.savefig(\"./figures/effect_of_month.png\")"
   ]
  },
  {
   "cell_type": "markdown",
   "id": "2af829be-9dea-4eea-ac08-662e1459b0db",
   "metadata": {},
   "source": [
    "We recall that most accidents on this list are from small planes. During the months of good weather, when recreational flying increases, there seems to be more accidents. This plot does not show a clear relationship between the number of fatal accidents and months that have more extreme weather. "
   ]
  },
  {
   "cell_type": "markdown",
   "id": "cb1a146e-4a84-4bef-a6f9-571117757165",
   "metadata": {},
   "source": [
    "### 4.5. Recommendations"
   ]
  },
  {
   "cell_type": "markdown",
   "id": "afe3edbc-fce3-44d5-bd16-3b5693730a10",
   "metadata": {},
   "source": [
    "Based on the analysis done above, the following recommendations for the stakeholders can be made: \n",
    "1. **California, Florida and Texas** are the top three states in terms of the number of fatal aviation accidents. Most fatal accidents in these states are associated with flights that are conducted for personal (recreational) or instructional purposes. Therefore, if we solely rely on the data available at hand, **it is not recommended to pursue business in these three states for recreational or instructional aircrafts**.  \n",
    "2. Aircrafts with reciprocating engines are highly involved in fatal aviation accidents. This doesn't necessarily mean that reciprocating engines are the cause of fatal accidents. However, it does indicate a correlation. Therefore, it's not recommended to invest in aicrafts with reciprocating engines.\n",
    "3. Aircrafts with higher number of engines seem to be safer in general. This is reasonable since having more engines ensures that the aircraft can remain operational in case one fails. Therefore, **it is recommended to be cautious about investing in small single-engine aircrafts.** \n",
    "4. **Cessna, Piper and Beech** are associated with the highest number of fatal accidents. However, when both make and model are considered, **Cirrus Design Corp, SR22** is also among aircrafts with the highest number of fatal accidents. **It is, therefore, recommended to avoid using these aircrafts.** \n",
    "5. Unlike an initial preconception that there may be more fatal accidents in months with extreme weather, **July and August** turn out to be the months with the highest number of fatal accidents. This observation may have an underlying cause: there are simply more flights taking place in these months. Regardless, **it seems reasonable to recommend that stakeholders expect and plan better for aviation incidents and accidents during these months.** "
   ]
  },
  {
   "cell_type": "markdown",
   "id": "38ed43af-bd2e-42cf-aebe-a6653e2f1a8e",
   "metadata": {},
   "source": [
    "## 5. Key Visualizations"
   ]
  },
  {
   "attachments": {},
   "cell_type": "markdown",
   "id": "4dd6b1be-f8cc-4071-9b12-15f96f12803b",
   "metadata": {},
   "source": [
    "<center><img src=\"./figures/effect_of_location.png\"\n",
    "            \n",
    "**Figure 1.** Total number of fatal accidents in top 10 US states.  \n",
    "\n",
    "<center><img src=\"./figures/effect_of_engine.png\"\n",
    "            \n",
    "**Figure 2.** Total number of fatal accidents per engine type and aircraft's total number of engines. \n",
    "\n",
    "<center><img src=\"./figures/effect_of_Make_and_Model_1.png\"\n",
    "            \n",
    "**Figure 3.** Total number of fatal accidents per the make and model combination of aircrafts. "
   ]
  },
  {
   "cell_type": "markdown",
   "id": "27c1f12f-36cf-42f1-b548-839da12e5ea8",
   "metadata": {},
   "source": [
    "## 6. Limitations and Next Steps"
   ]
  },
  {
   "cell_type": "markdown",
   "id": "bc863825-7a26-4c03-b332-cb1cf43987a6",
   "metadata": {},
   "source": [
    "The above study is limited in the following ways:\n",
    "1. The analysis is limited to the United States.\n",
    "2. In the absence of information on the total number of flights (including those without accidents), we're relying on the absolute number of fatal accidents as a metric for our analysis.\n",
    "\n",
    "To improve the analysis, next steps include obtaining data on the total number of inbound/outbound flights to/from each state, the total number of flights per make and model as well as the total number of flights done per engine type and engine count in the aircrafts. This will enable us to use a more proper metric (normalized ratio of total number of fatal accidents per total flights done during a certain period of time). It may also be desirable to have data on the profitability of each business pursuit (for example, investing in aircrafts for recreational versus travel or instructional purposes). A category may seem to be associated with lots of fatal accidents. However, it may also be highly profitable such that the business wouldn't lose money overall. "
   ]
  },
  {
   "cell_type": "markdown",
   "id": "c813c5c7-9df3-4102-baa8-75c5a6a6daf1",
   "metadata": {},
   "source": [
    "## 7. Dump Data for use in Tableau\n",
    "Now that the analysis is done, we will dump the cleaned and reformatted dataset we used for analysis for use in a Tableau dashboard. "
   ]
  },
  {
   "cell_type": "code",
   "execution_count": 72,
   "id": "768cedca-f0df-4232-9a1b-4f8f313727ca",
   "metadata": {},
   "outputs": [],
   "source": [
    "file_name = \"2404_Aviation_Data_Cleaned.csv\"\n",
    "df_subset.to_csv(\"./data/\"+file_name)"
   ]
  }
 ],
 "metadata": {
  "kernelspec": {
   "display_name": "Python (my-learn-env)",
   "language": "python",
   "name": "my-learn-env"
  },
  "language_info": {
   "codemirror_mode": {
    "name": "ipython",
    "version": 3
   },
   "file_extension": ".py",
   "mimetype": "text/x-python",
   "name": "python",
   "nbconvert_exporter": "python",
   "pygments_lexer": "ipython3",
   "version": "3.9.18"
  }
 },
 "nbformat": 4,
 "nbformat_minor": 5
}
